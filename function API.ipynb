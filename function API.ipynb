{
 "cells": [
  {
   "cell_type": "code",
   "execution_count": 2,
   "metadata": {},
   "outputs": [
    {
     "name": "stdout",
     "output_type": "stream",
     "text": [
      "env: KERAS_BACKEND=tensorflow\n"
     ]
    }
   ],
   "source": [
    "%env KERAS_BACKEND=tensorflow"
   ]
  },
  {
   "cell_type": "code",
   "execution_count": 3,
   "metadata": {},
   "outputs": [
    {
     "name": "stderr",
     "output_type": "stream",
     "text": [
      "/anaconda3/lib/python3.6/site-packages/h5py/__init__.py:36: FutureWarning: Conversion of the second argument of issubdtype from `float` to `np.floating` is deprecated. In future, it will be treated as `np.float64 == np.dtype(float).type`.\n",
      "  from ._conv import register_converters as _register_converters\n",
      "Using TensorFlow backend.\n"
     ]
    }
   ],
   "source": [
    "%matplotlib inline\n",
    "\n",
    "import matplotlib.pyplot as plt\n",
    "import numpy as np\n",
    "import pandas as pd \n",
    "\n",
    "from keras.models import Sequential\n",
    "from keras.layers import Dense, Activation\n",
    "from keras.optimizers import SGD\n",
    "\n",
    "from keras.datasets import mnist\n",
    "\n",
    "from keras.utils import np_utils"
   ]
  },
  {
   "cell_type": "code",
   "execution_count": 4,
   "metadata": {},
   "outputs": [],
   "source": [
    "##data\n",
    "(x_train0, y_train0), (x_test0, y_test0) = mnist.load_data()"
   ]
  },
  {
   "cell_type": "code",
   "execution_count": 5,
   "metadata": {},
   "outputs": [],
   "source": [
    "##reshape\n",
    "x_train = x_train0.reshape(60000, 784)\n",
    "x_test = x_test0.reshape(10000, 784)\n",
    "\n",
    "y_train = np_utils.to_categorical(y_train0, 10)\n",
    "y_test = np_utils.to_categorical(y_test0, 10)"
   ]
  },
  {
   "cell_type": "code",
   "execution_count": 6,
   "metadata": {},
   "outputs": [
    {
     "data": {
      "text/plain": [
       "(0.0, 1.0)"
      ]
     },
     "execution_count": 6,
     "metadata": {},
     "output_type": "execute_result"
    }
   ],
   "source": [
    "##normalize\n",
    "x_train = x_train-x_train.min()\n",
    "x_train = x_train/x_train.max()\n",
    "x_train.min(), x_train.max()"
   ]
  },
  {
   "cell_type": "code",
   "execution_count": 7,
   "metadata": {},
   "outputs": [],
   "source": [
    "## function \n",
    "from keras.models import Model\n",
    "from keras.layers import Input\n",
    "from keras.layers import concatenate, add"
   ]
  },
  {
   "cell_type": "code",
   "execution_count": 8,
   "metadata": {},
   "outputs": [
    {
     "name": "stdout",
     "output_type": "stream",
     "text": [
      "WARNING:tensorflow:From /anaconda3/lib/python3.6/site-packages/tensorflow/python/framework/op_def_library.py:263: colocate_with (from tensorflow.python.framework.ops) is deprecated and will be removed in a future version.\n",
      "Instructions for updating:\n",
      "Colocations handled automatically by placer.\n"
     ]
    }
   ],
   "source": [
    "f_1 = Dense(500, activation='sigmoid')\n",
    "f_2 = Dense(500, activation='relu')\n",
    "f_3 = Dense(500, activation='sigmoid')\n",
    "f_4 = Dense(500, activation='tanh')\n",
    "f_5 = Dense(10, activation='softmax')\n",
    "\n",
    "x = Input(shape=(784,))\n",
    "\n",
    "h_1 = f_1(x)\n",
    "h_2 = f_2(x)\n",
    "c1 = concatenate([h_1, h_2])\n",
    "h_3 = f_3(c1)\n",
    "h_4 = f_4(h_3)\n",
    "y = f_5(h_4)"
   ]
  },
  {
   "cell_type": "code",
   "execution_count": null,
   "metadata": {},
   "outputs": [],
   "source": []
  },
  {
   "cell_type": "code",
   "execution_count": 9,
   "metadata": {},
   "outputs": [
    {
     "name": "stdout",
     "output_type": "stream",
     "text": [
      "__________________________________________________________________________________________________\n",
      "Layer (type)                    Output Shape         Param #     Connected to                     \n",
      "==================================================================================================\n",
      "input_1 (InputLayer)            (None, 784)          0                                            \n",
      "__________________________________________________________________________________________________\n",
      "dense_1 (Dense)                 (None, 500)          392500      input_1[0][0]                    \n",
      "__________________________________________________________________________________________________\n",
      "dense_2 (Dense)                 (None, 500)          392500      input_1[0][0]                    \n",
      "__________________________________________________________________________________________________\n",
      "concatenate_1 (Concatenate)     (None, 1000)         0           dense_1[0][0]                    \n",
      "                                                                 dense_2[0][0]                    \n",
      "__________________________________________________________________________________________________\n",
      "dense_3 (Dense)                 (None, 500)          500500      concatenate_1[0][0]              \n",
      "__________________________________________________________________________________________________\n",
      "dense_4 (Dense)                 (None, 500)          250500      dense_3[0][0]                    \n",
      "__________________________________________________________________________________________________\n",
      "dense_5 (Dense)                 (None, 10)           5010        dense_4[0][0]                    \n",
      "==================================================================================================\n",
      "Total params: 1,541,010\n",
      "Trainable params: 1,541,010\n",
      "Non-trainable params: 0\n",
      "__________________________________________________________________________________________________\n"
     ]
    }
   ],
   "source": [
    "model = Model(x, y)\n",
    "model.summary()"
   ]
  },
  {
   "cell_type": "code",
   "execution_count": 10,
   "metadata": {},
   "outputs": [
    {
     "name": "stdout",
     "output_type": "stream",
     "text": [
      "WARNING:tensorflow:From /anaconda3/lib/python3.6/site-packages/tensorflow/python/ops/math_ops.py:3066: to_int32 (from tensorflow.python.ops.math_ops) is deprecated and will be removed in a future version.\n",
      "Instructions for updating:\n",
      "Use tf.cast instead.\n",
      "Train on 60000 samples, validate on 10000 samples\n",
      "Epoch 1/20\n",
      "60000/60000 [==============================] - 11s 178us/step - loss: 0.0895 - acc: 0.1976 - val_loss: 0.0843 - val_acc: 0.2596\n",
      "Epoch 2/20\n",
      "60000/60000 [==============================] - 12s 207us/step - loss: 0.0871 - acc: 0.3146 - val_loss: 0.0751 - val_acc: 0.3724\n",
      "Epoch 3/20\n",
      "60000/60000 [==============================] - 11s 188us/step - loss: 0.0825 - acc: 0.3429 - val_loss: 0.0774 - val_acc: 0.3772\n",
      "Epoch 4/20\n",
      "60000/60000 [==============================] - 11s 179us/step - loss: 0.0725 - acc: 0.4596 - val_loss: 0.0730 - val_acc: 0.4560\n",
      "Epoch 5/20\n",
      "60000/60000 [==============================] - 11s 189us/step - loss: 0.0595 - acc: 0.6112 - val_loss: 0.0547 - val_acc: 0.6071\n",
      "Epoch 6/20\n",
      "60000/60000 [==============================] - 11s 176us/step - loss: 0.0466 - acc: 0.7176 - val_loss: 0.0456 - val_acc: 0.6841\n",
      "Epoch 7/20\n",
      "60000/60000 [==============================] - 14s 240us/step - loss: 0.0363 - acc: 0.8022 - val_loss: 0.0421 - val_acc: 0.7118\n",
      "Epoch 8/20\n",
      "60000/60000 [==============================] - 12s 202us/step - loss: 0.0294 - acc: 0.8449 - val_loss: 0.0395 - val_acc: 0.7362\n",
      "Epoch 9/20\n",
      "60000/60000 [==============================] - 13s 225us/step - loss: 0.0250 - acc: 0.8612 - val_loss: 0.0365 - val_acc: 0.7593\n",
      "Epoch 10/20\n",
      "60000/60000 [==============================] - 14s 234us/step - loss: 0.0222 - acc: 0.8730 - val_loss: 0.0353 - val_acc: 0.7694\n",
      "Epoch 11/20\n",
      "60000/60000 [==============================] - 13s 210us/step - loss: 0.0203 - acc: 0.8811 - val_loss: 0.0329 - val_acc: 0.7876\n",
      "Epoch 12/20\n",
      "60000/60000 [==============================] - 11s 178us/step - loss: 0.0189 - acc: 0.8863 - val_loss: 0.0308 - val_acc: 0.8045\n",
      "Epoch 13/20\n",
      "60000/60000 [==============================] - 10s 168us/step - loss: 0.0179 - acc: 0.8910 - val_loss: 0.0295 - val_acc: 0.8143\n",
      "Epoch 14/20\n",
      "60000/60000 [==============================] - 11s 179us/step - loss: 0.0171 - acc: 0.8948 - val_loss: 0.0273 - val_acc: 0.8272\n",
      "Epoch 15/20\n",
      "60000/60000 [==============================] - 13s 215us/step - loss: 0.0165 - acc: 0.8970 - val_loss: 0.0264 - val_acc: 0.8307\n",
      "Epoch 16/20\n",
      "60000/60000 [==============================] - 15s 242us/step - loss: 0.0159 - acc: 0.8997 - val_loss: 0.0253 - val_acc: 0.8408\n",
      "Epoch 17/20\n",
      "60000/60000 [==============================] - 13s 222us/step - loss: 0.0155 - acc: 0.9015 - val_loss: 0.0241 - val_acc: 0.8496\n",
      "Epoch 18/20\n",
      "60000/60000 [==============================] - 12s 204us/step - loss: 0.0151 - acc: 0.9043 - val_loss: 0.0231 - val_acc: 0.8555\n",
      "Epoch 19/20\n",
      "60000/60000 [==============================] - 12s 200us/step - loss: 0.0147 - acc: 0.9063 - val_loss: 0.0223 - val_acc: 0.8606\n",
      "Epoch 20/20\n",
      "60000/60000 [==============================] - 11s 192us/step - loss: 0.0144 - acc: 0.9077 - val_loss: 0.0224 - val_acc: 0.8598\n"
     ]
    },
    {
     "data": {
      "text/plain": [
       "<keras.callbacks.History at 0xb2bfd2e80>"
      ]
     },
     "execution_count": 10,
     "metadata": {},
     "output_type": "execute_result"
    }
   ],
   "source": [
    "model.compile(loss='mse', optimizer=SGD(lr=0.08), metrics=['accuracy'])\n",
    "model.fit(x_train, y_train, batch_size=100, epochs=20, verbose=1, validation_data=(x_test, y_test))"
   ]
  },
  {
   "attachments": {
    "ai.jpg": {
     "image/jpeg": "[encoded data removed]"
    }
   },
   "cell_type": "markdown",
   "metadata": {},
   "source": [
    "![ai.jpg](attachment:ai.jpg)"
   ]
  },
  {
   "cell_type": "code",
   "execution_count": 20,
   "metadata": {},
   "outputs": [
    {
     "name": "stdout",
     "output_type": "stream",
     "text": [
      "60000/60000 [==============================] - 3s 55us/step\n",
      "Loss: 0.014004\n",
      "準確率: 91.078333\n"
     ]
    }
   ],
   "source": [
    "score = model.evaluate(x_train, y_train, batch_size=10000)\n",
    "print(\"Loss: %f\" %score[0])\n",
    "print(\"準確率: %f\" %(score[1]*100))"
   ]
  },
  {
   "cell_type": "code",
   "execution_count": null,
   "metadata": {},
   "outputs": [],
   "source": []
  }
 ],
 "metadata": {
  "kernelspec": {
   "display_name": "Python 3",
   "language": "python",
   "name": "python3"
  },
  "language_info": {
   "codemirror_mode": {
    "name": "ipython",
    "version": 3
   },
   "file_extension": ".py",
   "mimetype": "text/x-python",
   "name": "python",
   "nbconvert_exporter": "python",
   "pygments_lexer": "ipython3",
   "version": "3.6.5"
  }
 },
 "nbformat": 4,
 "nbformat_minor": 2
}
