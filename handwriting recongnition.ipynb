{
 "cells": [
  {
   "cell_type": "code",
   "execution_count": 10,
   "metadata": {},
   "outputs": [],
   "source": [
    "%matplotlib inline\n",
    "\n",
    "import numpy as np\n",
    "import matplotlib.pyplot as plt"
   ]
  },
  {
   "cell_type": "code",
   "execution_count": 1,
   "metadata": {},
   "outputs": [
    {
     "name": "stdout",
     "output_type": "stream",
     "text": [
      "env: KERAS_BACKEND=tensorflow\n"
     ]
    },
    {
     "name": "stderr",
     "output_type": "stream",
     "text": [
      "/anaconda3/lib/python3.6/site-packages/h5py/__init__.py:36: FutureWarning: Conversion of the second argument of issubdtype from `float` to `np.floating` is deprecated. In future, it will be treated as `np.float64 == np.dtype(float).type`.\n",
      "  from ._conv import register_converters as _register_converters\n",
      "Using TensorFlow backend.\n"
     ]
    }
   ],
   "source": [
    "%env KERAS_BACKEND=tensorflow\n",
    "\n",
    "from keras.datasets import mnist"
   ]
  },
  {
   "cell_type": "code",
   "execution_count": 3,
   "metadata": {},
   "outputs": [
    {
     "name": "stdout",
     "output_type": "stream",
     "text": [
      "Downloading data from https://s3.amazonaws.com/img-datasets/mnist.npz\n",
      "11493376/11490434 [==============================] - 134s 12us/step\n"
     ]
    }
   ],
   "source": [
    "(x_train, y_train), (x_test, y_test) = mnist.load_data()"
   ]
  },
  {
   "cell_type": "code",
   "execution_count": 4,
   "metadata": {},
   "outputs": [
    {
     "data": {
      "text/plain": [
       "60000"
      ]
     },
     "execution_count": 4,
     "metadata": {},
     "output_type": "execute_result"
    }
   ],
   "source": [
    "len(x_train)"
   ]
  },
  {
   "cell_type": "code",
   "execution_count": 5,
   "metadata": {},
   "outputs": [
    {
     "data": {
      "text/plain": [
       "10000"
      ]
     },
     "execution_count": 5,
     "metadata": {},
     "output_type": "execute_result"
    }
   ],
   "source": [
    "len(x_test)"
   ]
  },
  {
   "cell_type": "code",
   "execution_count": 6,
   "metadata": {},
   "outputs": [],
   "source": [
    "X = x_train[87]"
   ]
  },
  {
   "cell_type": "code",
   "execution_count": 7,
   "metadata": {},
   "outputs": [
    {
     "data": {
      "text/plain": [
       "array([[  0,   0,   0,   0,   0,   0,   0,   0,   0,   0,   0,   0,   0,\n",
       "          0,   0,   0,   0,   0,   0,   0,   0,   0,   0,   0,   0,   0,\n",
       "          0,   0],\n",
       "       [  0,   0,   0,   0,   0,   0,   0,   0,   0,   0,   0,   0,   0,\n",
       "          0,   0,   0,   0,   0,   0,   0,   0,   0,   0,   0,   0,   0,\n",
       "          0,   0],\n",
       "       [  0,   0,   0,   0,   0,   0,   0,   0,   0,   0,   0,   0,   0,\n",
       "          0,   0,   0,   0,   0,   0,   0,   0,   0,   0,   0,   0,   0,\n",
       "          0,   0],\n",
       "       [  0,   0,   0,   0,   0,   0,   0,   0,   0,   0,   0,   0,   0,\n",
       "          0,   0,   0,   0,   0,   0,   0,   0,   0,   0,   0,   0,   0,\n",
       "          0,   0],\n",
       "       [  0,   0,   0,   0,   0,   0,   0,   0,   0,   0,   0,   0,   0,\n",
       "          0,   0,   0,   0,   0,   0,   0,   0,   0,   0,   0,   0,   0,\n",
       "          0,   0],\n",
       "       [  0,   0,   0,   0,   0,   0,   0,   0,   0,   0,   0,   0,   0,\n",
       "          0,   0,   0,   0,   0,   0,   0,   0,   0,   0,   0,   0,   0,\n",
       "          0,   0],\n",
       "       [  0,   0,   0,   0,   0,   0,   0,   0,   0,   0,   0,   0,   0,\n",
       "          0,   0,   0,   0,   0,   0,   0,   0,   0,   0,   0,   0,   0,\n",
       "          0,   0],\n",
       "       [  0,   0,   0,   0,   0,   0,   0,   0,   0,   0,   0,   0,  39,\n",
       "        125, 225, 254, 254, 255, 254, 170,  48,   0,   0,   0,   0,   0,\n",
       "          0,   0],\n",
       "       [  0,   0,   0,   0,   0,   0,   0,   0,   0,   0,  43, 101, 250,\n",
       "        253, 253, 253, 253, 253, 253, 253, 250, 161,   0,   0,   0,   0,\n",
       "          0,   0],\n",
       "       [  0,   0,   0,   0,   0,   0,   0,   0,   0,  94, 246, 247, 253,\n",
       "        253, 196, 227, 116,  56, 253, 253, 253, 234,   0,   0,   0,   0,\n",
       "          0,   0],\n",
       "       [  0,   0,   0,   0,   0,   0,   0,   0,   0, 152, 253, 253, 180,\n",
       "         19,   9,  15,   0,   4,  55, 253, 253, 166,   0,   0,   0,   0,\n",
       "          0,   0],\n",
       "       [  0,   0,   0,   0,   0,   0,   0,   0,  41, 238, 253, 253, 125,\n",
       "          0,   0,   0,  21, 189, 232, 253, 253, 117,   0,   0,   0,   0,\n",
       "          0,   0],\n",
       "       [  0,   0,   0,   0,   0,   0,   0,   0, 219, 253, 220, 165,  34,\n",
       "         92,  21,  52, 228, 253, 253, 241,  82,  13,   0,   0,   0,   0,\n",
       "          0,   0],\n",
       "       [  0,   0,   0,   0,   0,   0,   0,  38, 241, 170,  25,  20,  12,\n",
       "         75,  39,  59, 253, 253, 253, 110,   0,   0,   0,   0,   0,   0,\n",
       "          0,   0],\n",
       "       [  0,   0,   0,   0,   0,   0,   0, 112, 253, 236,  67,   0,   0,\n",
       "          0,   0, 100, 253, 253, 221,  16,   0,   0,   0,   0,   0,   0,\n",
       "          0,   0],\n",
       "       [  0,   0,   0,   0,   0,   0,   0,  23, 239, 253, 235, 202, 135,\n",
       "         99, 173, 240, 253, 253, 110,   0,   0,   0,   0,   0,   0,   0,\n",
       "          0,   0],\n",
       "       [  0,   0,   0,   0,   0,   0,   0,   0,  54, 200, 253, 253, 253,\n",
       "        253, 253, 253, 253, 241,  63,   0,   0,   0,   0,   0,   0,   0,\n",
       "          0,   0],\n",
       "       [  0,   0,   0,   0,   0,   0,   0,   0,   0,  25, 112, 244, 253,\n",
       "        237, 142, 253, 253, 111,   0,   0,   0,   0,   0,   0,   0,   0,\n",
       "          0,   0],\n",
       "       [  0,   0,   0,   0,   0,   0,   0,   0,   0,   0,   0,  61,  71,\n",
       "         51, 159, 253, 188,  22,   0,   0,   0,   0,   0,   0,   0,   0,\n",
       "          0,   0],\n",
       "       [  0,   0,   0,   0,   0,   0,   0,   0,   0,   0,   0,   0,  15,\n",
       "        150, 236, 212,  22,   0,   0,   0,   0,   0,   0,   0,   0,   0,\n",
       "          0,   0],\n",
       "       [  0,   0,   0,   0,   0,   0,   0,   0,   0,   0,   0,   0,  99,\n",
       "        253, 243,  98,   0,   0,   0,   0,   0,   0,   0,   0,   0,   0,\n",
       "          0,   0],\n",
       "       [  0,   0,   0,   0,   0,   0,   0,   0,   0,   0,   0,  72, 237,\n",
       "        253, 105,   0,   0,   0,   0,   0,   0,   0,   0,   0,   0,   0,\n",
       "          0,   0],\n",
       "       [  0,   0,   0,   0,   0,   0,   0,   0,   0,   0,  10, 219, 253,\n",
       "        195,  22,   0,   0,   0,   0,   0,   0,   0,   0,   0,   0,   0,\n",
       "          0,   0],\n",
       "       [  0,   0,   0,   0,   0,   0,   0,   0,   0,   8, 171, 253, 207,\n",
       "         21,   0,   0,   0,   0,   0,   0,   0,   0,   0,   0,   0,   0,\n",
       "          0,   0],\n",
       "       [  0,   0,   0,   0,   0,   0,   0,   0,   0, 105, 253, 198,  76,\n",
       "          0,   0,   0,   0,   0,   0,   0,   0,   0,   0,   0,   0,   0,\n",
       "          0,   0],\n",
       "       [  0,   0,   0,   0,   0,   0,   0,   0,  60, 242, 253,  38,   0,\n",
       "          0,   0,   0,   0,   0,   0,   0,   0,   0,   0,   0,   0,   0,\n",
       "          0,   0],\n",
       "       [  0,   0,   0,   0,   0,   0,   0,   0, 235, 253, 206,  19,   0,\n",
       "          0,   0,   0,   0,   0,   0,   0,   0,   0,   0,   0,   0,   0,\n",
       "          0,   0],\n",
       "       [  0,   0,   0,   0,   0,   0,   0,   0,   0,   0,   0,   0,   0,\n",
       "          0,   0,   0,   0,   0,   0,   0,   0,   0,   0,   0,   0,   0,\n",
       "          0,   0]], dtype=uint8)"
      ]
     },
     "execution_count": 7,
     "metadata": {},
     "output_type": "execute_result"
    }
   ],
   "source": [
    "X"
   ]
  },
  {
   "cell_type": "code",
   "execution_count": 8,
   "metadata": {},
   "outputs": [
    {
     "data": {
      "text/plain": [
       "(28, 28)"
      ]
     },
     "execution_count": 8,
     "metadata": {},
     "output_type": "execute_result"
    }
   ],
   "source": [
    "X.shape"
   ]
  },
  {
   "cell_type": "code",
   "execution_count": 11,
   "metadata": {},
   "outputs": [
    {
     "data": {
      "text/plain": [
       "<matplotlib.image.AxesImage at 0xb28f05320>"
      ]
     },
     "execution_count": 11,
     "metadata": {},
     "output_type": "execute_result"
    },
    {
     "data": {
      "image/png": "[encoded data removed]",
      "text/plain": [
       "<Figure size 432x288 with 1 Axes>"
      ]
     },
     "metadata": {},
     "output_type": "display_data"
    }
   ],
   "source": [
    "plt.imshow(X, cmap = 'Greys')"
   ]
  },
  {
   "cell_type": "code",
   "execution_count": 12,
   "metadata": {},
   "outputs": [
    {
     "data": {
      "text/plain": [
       "9"
      ]
     },
     "execution_count": 12,
     "metadata": {},
     "output_type": "execute_result"
    }
   ],
   "source": [
    "y_train[87]"
   ]
  },
  {
   "cell_type": "code",
   "execution_count": 13,
   "metadata": {},
   "outputs": [
    {
     "data": {
      "text/plain": [
       "(60000, 28, 28)"
      ]
     },
     "execution_count": 13,
     "metadata": {},
     "output_type": "execute_result"
    }
   ],
   "source": [
    "x_train.shape"
   ]
  },
  {
   "cell_type": "code",
   "execution_count": 14,
   "metadata": {},
   "outputs": [
    {
     "data": {
      "text/plain": [
       "(10000, 28, 28)"
      ]
     },
     "execution_count": 14,
     "metadata": {},
     "output_type": "execute_result"
    }
   ],
   "source": [
    "x_test.shape"
   ]
  },
  {
   "cell_type": "code",
   "execution_count": 15,
   "metadata": {},
   "outputs": [],
   "source": [
    "x_train = x_train.reshape(60000, 784)\n",
    "x_test = x_test.reshape(10000, 784)"
   ]
  },
  {
   "cell_type": "code",
   "execution_count": 16,
   "metadata": {},
   "outputs": [],
   "source": [
    "from keras.utils import np_utils"
   ]
  },
  {
   "cell_type": "code",
   "execution_count": 17,
   "metadata": {},
   "outputs": [
    {
     "data": {
      "text/plain": [
       "array([0., 0., 0., 0., 0., 0., 0., 0., 0., 1.], dtype=float32)"
      ]
     },
     "execution_count": 17,
     "metadata": {},
     "output_type": "execute_result"
    }
   ],
   "source": [
    "y_train = np_utils.to_categorical(y_train, 10)\n",
    "y_test = np_utils.to_categorical(y_test, 10)\n",
    "y_train[87]"
   ]
  },
  {
   "cell_type": "code",
   "execution_count": 70,
   "metadata": {},
   "outputs": [],
   "source": [
    "from keras.models import Sequential\n",
    "from keras.layers import Dense, Activation\n",
    "from keras.optimizers import SGD"
   ]
  },
  {
   "cell_type": "code",
   "execution_count": 102,
   "metadata": {},
   "outputs": [],
   "source": [
    "model = Sequential()"
   ]
  },
  {
   "cell_type": "code",
   "execution_count": 103,
   "metadata": {},
   "outputs": [],
   "source": [
    "##hidden layer1\n",
    "model.add(Dense(10, input_dim=784))\n",
    "model.add(Activation('relu'))\n",
    "\n",
    "##hidden layer2\n",
    "model.add(Dense(8))\n",
    "model.add(Activation('tanh'))\n"
   ]
  },
  {
   "cell_type": "code",
   "execution_count": 104,
   "metadata": {},
   "outputs": [],
   "source": [
    "##hidden layer3\n",
    "model.add(Dense(6))\n",
    "model.add(Activation('sigmoid'))\n",
    "\n",
    "##hidden layer4\n",
    "model.add(Dense(8))\n",
    "model.add(Activation('tanh'))"
   ]
  },
  {
   "cell_type": "code",
   "execution_count": 105,
   "metadata": {},
   "outputs": [],
   "source": [
    "model.add(Dense(10))\n",
    "model.add(Activation('softmax'))"
   ]
  },
  {
   "cell_type": "code",
   "execution_count": null,
   "metadata": {},
   "outputs": [],
   "source": []
  },
  {
   "cell_type": "code",
   "execution_count": 106,
   "metadata": {},
   "outputs": [],
   "source": [
    "##compile\n",
    "model.compile(loss='mse', optimizer=SGD(lr=0.087), metrics=['accuracy'])"
   ]
  },
  {
   "cell_type": "code",
   "execution_count": 107,
   "metadata": {},
   "outputs": [
    {
     "name": "stdout",
     "output_type": "stream",
     "text": [
      "_________________________________________________________________\n",
      "Layer (type)                 Output Shape              Param #   \n",
      "=================================================================\n",
      "dense_42 (Dense)             (None, 10)                7850      \n",
      "_________________________________________________________________\n",
      "activation_42 (Activation)   (None, 10)                0         \n",
      "_________________________________________________________________\n",
      "dense_43 (Dense)             (None, 8)                 88        \n",
      "_________________________________________________________________\n",
      "activation_43 (Activation)   (None, 8)                 0         \n",
      "_________________________________________________________________\n",
      "dense_44 (Dense)             (None, 6)                 54        \n",
      "_________________________________________________________________\n",
      "activation_44 (Activation)   (None, 6)                 0         \n",
      "_________________________________________________________________\n",
      "dense_45 (Dense)             (None, 8)                 56        \n",
      "_________________________________________________________________\n",
      "activation_45 (Activation)   (None, 8)                 0         \n",
      "_________________________________________________________________\n",
      "dense_46 (Dense)             (None, 10)                90        \n",
      "_________________________________________________________________\n",
      "activation_46 (Activation)   (None, 10)                0         \n",
      "=================================================================\n",
      "Total params: 8,138\n",
      "Trainable params: 8,138\n",
      "Non-trainable params: 0\n",
      "_________________________________________________________________\n"
     ]
    }
   ],
   "source": [
    "model.summary()"
   ]
  },
  {
   "cell_type": "code",
   "execution_count": 119,
   "metadata": {},
   "outputs": [
    {
     "name": "stdout",
     "output_type": "stream",
     "text": [
      "Epoch 1/300\n",
      "60000/60000 [==============================] - 1s 8us/step - loss: 0.0128 - acc: 0.9299\n",
      "Epoch 2/300\n",
      "60000/60000 [==============================] - 0s 6us/step - loss: 0.0126 - acc: 0.9309\n",
      "Epoch 3/300\n",
      "60000/60000 [==============================] - 0s 5us/step - loss: 0.0130 - acc: 0.9281\n",
      "Epoch 4/300\n",
      "60000/60000 [==============================] - 0s 5us/step - loss: 0.0130 - acc: 0.9282\n",
      "Epoch 5/300\n",
      "60000/60000 [==============================] - 0s 5us/step - loss: 0.0128 - acc: 0.9295\n",
      "Epoch 6/300\n",
      "60000/60000 [==============================] - 0s 6us/step - loss: 0.0130 - acc: 0.9282\n",
      "Epoch 7/300\n",
      "60000/60000 [==============================] - 0s 8us/step - loss: 0.0138 - acc: 0.9243\n",
      "Epoch 8/300\n",
      "60000/60000 [==============================] - 0s 8us/step - loss: 0.0128 - acc: 0.9288\n",
      "Epoch 9/300\n",
      "60000/60000 [==============================] - 0s 6us/step - loss: 0.0129 - acc: 0.9290\n",
      "Epoch 10/300\n",
      "60000/60000 [==============================] - 0s 6us/step - loss: 0.0129 - acc: 0.9282\n",
      "Epoch 11/300\n",
      "60000/60000 [==============================] - 0s 6us/step - loss: 0.0129 - acc: 0.9276\n",
      "Epoch 12/300\n",
      "60000/60000 [==============================] - 0s 6us/step - loss: 0.0131 - acc: 0.9275\n",
      "Epoch 13/300\n",
      "60000/60000 [==============================] - 0s 6us/step - loss: 0.0133 - acc: 0.9271\n",
      "Epoch 14/300\n",
      "60000/60000 [==============================] - 0s 5us/step - loss: 0.0126 - acc: 0.9308\n",
      "Epoch 15/300\n",
      "60000/60000 [==============================] - 0s 6us/step - loss: 0.0127 - acc: 0.9297\n",
      "Epoch 16/300\n",
      "60000/60000 [==============================] - 0s 5us/step - loss: 0.0127 - acc: 0.9303\n",
      "Epoch 17/300\n",
      "60000/60000 [==============================] - 0s 5us/step - loss: 0.0128 - acc: 0.9293\n",
      "Epoch 18/300\n",
      "60000/60000 [==============================] - 0s 5us/step - loss: 0.0130 - acc: 0.9277\n",
      "Epoch 19/300\n",
      "60000/60000 [==============================] - 0s 5us/step - loss: 0.0128 - acc: 0.9299\n",
      "Epoch 20/300\n",
      "60000/60000 [==============================] - 0s 6us/step - loss: 0.0127 - acc: 0.9296\n",
      "Epoch 21/300\n",
      "60000/60000 [==============================] - 0s 7us/step - loss: 0.0123 - acc: 0.9324\n",
      "Epoch 22/300\n",
      "60000/60000 [==============================] - 0s 6us/step - loss: 0.0124 - acc: 0.9321\n",
      "Epoch 23/300\n",
      "60000/60000 [==============================] - 0s 6us/step - loss: 0.0125 - acc: 0.9310\n",
      "Epoch 24/300\n",
      "60000/60000 [==============================] - 0s 8us/step - loss: 0.0128 - acc: 0.9291\n",
      "Epoch 25/300\n",
      "60000/60000 [==============================] - 0s 6us/step - loss: 0.0135 - acc: 0.9257\n",
      "Epoch 26/300\n",
      "60000/60000 [==============================] - 0s 6us/step - loss: 0.0126 - acc: 0.9308\n",
      "Epoch 27/300\n",
      "60000/60000 [==============================] - 0s 7us/step - loss: 0.0128 - acc: 0.9296\n",
      "Epoch 28/300\n",
      "60000/60000 [==============================] - 0s 8us/step - loss: 0.0128 - acc: 0.9292\n",
      "Epoch 29/300\n",
      "60000/60000 [==============================] - 0s 8us/step - loss: 0.0127 - acc: 0.9302\n",
      "Epoch 30/300\n",
      "60000/60000 [==============================] - 0s 8us/step - loss: 0.0124 - acc: 0.9324\n",
      "Epoch 31/300\n",
      "60000/60000 [==============================] - 0s 8us/step - loss: 0.0128 - acc: 0.9288\n",
      "Epoch 32/300\n",
      "60000/60000 [==============================] - 0s 7us/step - loss: 0.0131 - acc: 0.9277\n",
      "Epoch 33/300\n",
      "60000/60000 [==============================] - 0s 8us/step - loss: 0.0127 - acc: 0.9297\n",
      "Epoch 34/300\n",
      "60000/60000 [==============================] - 0s 8us/step - loss: 0.0130 - acc: 0.9267\n",
      "Epoch 35/300\n",
      "60000/60000 [==============================] - 0s 7us/step - loss: 0.0130 - acc: 0.9283\n",
      "Epoch 36/300\n",
      "60000/60000 [==============================] - 0s 5us/step - loss: 0.0130 - acc: 0.9285\n",
      "Epoch 37/300\n",
      "60000/60000 [==============================] - 0s 6us/step - loss: 0.0129 - acc: 0.9289\n",
      "Epoch 38/300\n",
      "60000/60000 [==============================] - 0s 6us/step - loss: 0.0128 - acc: 0.9294\n",
      "Epoch 39/300\n",
      "60000/60000 [==============================] - 0s 6us/step - loss: 0.0126 - acc: 0.9301\n",
      "Epoch 40/300\n",
      "60000/60000 [==============================] - 0s 5us/step - loss: 0.0134 - acc: 0.9247\n",
      "Epoch 41/300\n",
      "60000/60000 [==============================] - 0s 5us/step - loss: 0.0130 - acc: 0.9284\n",
      "Epoch 42/300\n",
      "60000/60000 [==============================] - 0s 5us/step - loss: 0.0129 - acc: 0.9291\n",
      "Epoch 43/300\n",
      "60000/60000 [==============================] - 0s 5us/step - loss: 0.0134 - acc: 0.9261\n",
      "Epoch 44/300\n",
      "60000/60000 [==============================] - 0s 5us/step - loss: 0.0127 - acc: 0.9305\n",
      "Epoch 45/300\n",
      "60000/60000 [==============================] - 0s 7us/step - loss: 0.0128 - acc: 0.9295\n",
      "Epoch 46/300\n",
      "60000/60000 [==============================] - 0s 6us/step - loss: 0.0127 - acc: 0.9307\n",
      "Epoch 47/300\n",
      "60000/60000 [==============================] - 0s 5us/step - loss: 0.0130 - acc: 0.9289\n",
      "Epoch 48/300\n",
      "60000/60000 [==============================] - 0s 5us/step - loss: 0.0125 - acc: 0.9307\n",
      "Epoch 49/300\n",
      "60000/60000 [==============================] - 0s 5us/step - loss: 0.0129 - acc: 0.9291\n",
      "Epoch 50/300\n",
      "60000/60000 [==============================] - 0s 5us/step - loss: 0.0128 - acc: 0.9293\n",
      "Epoch 51/300\n",
      "60000/60000 [==============================] - 0s 5us/step - loss: 0.0130 - acc: 0.9288\n",
      "Epoch 52/300\n",
      "60000/60000 [==============================] - 0s 6us/step - loss: 0.0124 - acc: 0.9318\n",
      "Epoch 53/300\n",
      "60000/60000 [==============================] - 0s 6us/step - loss: 0.0128 - acc: 0.9300\n",
      "Epoch 54/300\n",
      "60000/60000 [==============================] - 0s 6us/step - loss: 0.0127 - acc: 0.9299\n",
      "Epoch 55/300\n",
      "60000/60000 [==============================] - 0s 6us/step - loss: 0.0126 - acc: 0.9303\n",
      "Epoch 56/300\n",
      "60000/60000 [==============================] - 0s 5us/step - loss: 0.0127 - acc: 0.9302\n",
      "Epoch 57/300\n",
      "60000/60000 [==============================] - 0s 5us/step - loss: 0.0129 - acc: 0.9278\n",
      "Epoch 58/300\n",
      "60000/60000 [==============================] - 0s 5us/step - loss: 0.0133 - acc: 0.9273\n",
      "Epoch 59/300\n",
      "60000/60000 [==============================] - 0s 5us/step - loss: 0.0128 - acc: 0.9297\n",
      "Epoch 60/300\n",
      "60000/60000 [==============================] - 0s 5us/step - loss: 0.0130 - acc: 0.9282\n",
      "Epoch 61/300\n",
      "60000/60000 [==============================] - 0s 5us/step - loss: 0.0123 - acc: 0.9322\n",
      "Epoch 62/300\n",
      "60000/60000 [==============================] - 0s 6us/step - loss: 0.0126 - acc: 0.9307\n",
      "Epoch 63/300\n",
      "60000/60000 [==============================] - 0s 5us/step - loss: 0.0127 - acc: 0.9305\n",
      "Epoch 64/300\n",
      "60000/60000 [==============================] - 0s 6us/step - loss: 0.0127 - acc: 0.9296\n",
      "Epoch 65/300\n",
      "60000/60000 [==============================] - 0s 5us/step - loss: 0.0127 - acc: 0.9302\n",
      "Epoch 66/300\n",
      "60000/60000 [==============================] - 0s 5us/step - loss: 0.0128 - acc: 0.9288\n",
      "Epoch 67/300\n",
      "60000/60000 [==============================] - 0s 5us/step - loss: 0.0129 - acc: 0.9292\n",
      "Epoch 68/300\n",
      "60000/60000 [==============================] - 1s 9us/step - loss: 0.0133 - acc: 0.9275\n",
      "Epoch 69/300\n",
      "60000/60000 [==============================] - 0s 8us/step - loss: 0.0132 - acc: 0.9271\n",
      "Epoch 70/300\n",
      "60000/60000 [==============================] - 0s 6us/step - loss: 0.0128 - acc: 0.9294\n",
      "Epoch 71/300\n",
      "60000/60000 [==============================] - 0s 6us/step - loss: 0.0128 - acc: 0.9292\n",
      "Epoch 72/300\n",
      "60000/60000 [==============================] - 0s 6us/step - loss: 0.0125 - acc: 0.9308\n",
      "Epoch 73/300\n",
      "60000/60000 [==============================] - 0s 5us/step - loss: 0.0128 - acc: 0.9295\n",
      "Epoch 74/300\n",
      "60000/60000 [==============================] - 0s 6us/step - loss: 0.0129 - acc: 0.9288\n",
      "Epoch 75/300\n",
      "60000/60000 [==============================] - 0s 6us/step - loss: 0.0125 - acc: 0.9314\n",
      "Epoch 76/300\n",
      "60000/60000 [==============================] - 0s 5us/step - loss: 0.0129 - acc: 0.9292\n",
      "Epoch 77/300\n",
      "60000/60000 [==============================] - 0s 7us/step - loss: 0.0133 - acc: 0.9269\n",
      "Epoch 78/300\n",
      "60000/60000 [==============================] - 0s 5us/step - loss: 0.0126 - acc: 0.9306\n",
      "Epoch 79/300\n",
      "60000/60000 [==============================] - 0s 6us/step - loss: 0.0129 - acc: 0.9284\n",
      "Epoch 80/300\n",
      "60000/60000 [==============================] - 0s 5us/step - loss: 0.0134 - acc: 0.9258\n",
      "Epoch 81/300\n",
      "60000/60000 [==============================] - 0s 5us/step - loss: 0.0129 - acc: 0.9297\n",
      "Epoch 82/300\n"
     ]
    },
    {
     "name": "stdout",
     "output_type": "stream",
     "text": [
      "60000/60000 [==============================] - 0s 5us/step - loss: 0.0131 - acc: 0.9283\n",
      "Epoch 83/300\n",
      "60000/60000 [==============================] - 0s 6us/step - loss: 0.0129 - acc: 0.9288\n",
      "Epoch 84/300\n",
      "60000/60000 [==============================] - 0s 6us/step - loss: 0.0124 - acc: 0.9319\n",
      "Epoch 85/300\n",
      "60000/60000 [==============================] - 0s 6us/step - loss: 0.0136 - acc: 0.9252\n",
      "Epoch 86/300\n",
      "60000/60000 [==============================] - 0s 5us/step - loss: 0.0128 - acc: 0.9289\n",
      "Epoch 87/300\n",
      "60000/60000 [==============================] - 0s 5us/step - loss: 0.0127 - acc: 0.9296\n",
      "Epoch 88/300\n",
      "60000/60000 [==============================] - 0s 5us/step - loss: 0.0127 - acc: 0.9306\n",
      "Epoch 89/300\n",
      "60000/60000 [==============================] - 0s 5us/step - loss: 0.0126 - acc: 0.9310\n",
      "Epoch 90/300\n",
      "60000/60000 [==============================] - 0s 5us/step - loss: 0.0129 - acc: 0.9289\n",
      "Epoch 91/300\n",
      "60000/60000 [==============================] - 0s 5us/step - loss: 0.0126 - acc: 0.9301\n",
      "Epoch 92/300\n",
      "60000/60000 [==============================] - 0s 5us/step - loss: 0.0128 - acc: 0.9290\n",
      "Epoch 93/300\n",
      "60000/60000 [==============================] - 0s 5us/step - loss: 0.0128 - acc: 0.9296\n",
      "Epoch 94/300\n",
      "60000/60000 [==============================] - 0s 5us/step - loss: 0.0124 - acc: 0.9321\n",
      "Epoch 95/300\n",
      "60000/60000 [==============================] - 0s 5us/step - loss: 0.0127 - acc: 0.9309\n",
      "Epoch 96/300\n",
      "60000/60000 [==============================] - 0s 5us/step - loss: 0.0128 - acc: 0.9282\n",
      "Epoch 97/300\n",
      "60000/60000 [==============================] - 0s 5us/step - loss: 0.0126 - acc: 0.9304\n",
      "Epoch 98/300\n",
      "60000/60000 [==============================] - 0s 5us/step - loss: 0.0130 - acc: 0.9276\n",
      "Epoch 99/300\n",
      "60000/60000 [==============================] - 0s 6us/step - loss: 0.0126 - acc: 0.9314\n",
      "Epoch 100/300\n",
      "60000/60000 [==============================] - 0s 6us/step - loss: 0.0126 - acc: 0.9313\n",
      "Epoch 101/300\n",
      "60000/60000 [==============================] - 0s 6us/step - loss: 0.0124 - acc: 0.9312\n",
      "Epoch 102/300\n",
      "60000/60000 [==============================] - 0s 6us/step - loss: 0.0127 - acc: 0.9298\n",
      "Epoch 103/300\n",
      "60000/60000 [==============================] - 0s 5us/step - loss: 0.0127 - acc: 0.9301\n",
      "Epoch 104/300\n",
      "60000/60000 [==============================] - 0s 5us/step - loss: 0.0128 - acc: 0.9297\n",
      "Epoch 105/300\n",
      "60000/60000 [==============================] - 0s 5us/step - loss: 0.0130 - acc: 0.9275\n",
      "Epoch 106/300\n",
      "60000/60000 [==============================] - 0s 5us/step - loss: 0.0128 - acc: 0.9297\n",
      "Epoch 107/300\n",
      "60000/60000 [==============================] - 0s 5us/step - loss: 0.0130 - acc: 0.9292\n",
      "Epoch 108/300\n",
      "60000/60000 [==============================] - 0s 5us/step - loss: 0.0127 - acc: 0.9298\n",
      "Epoch 109/300\n",
      "60000/60000 [==============================] - 0s 5us/step - loss: 0.0129 - acc: 0.9296\n",
      "Epoch 110/300\n",
      "60000/60000 [==============================] - 0s 5us/step - loss: 0.0127 - acc: 0.9303\n",
      "Epoch 111/300\n",
      "60000/60000 [==============================] - 0s 5us/step - loss: 0.0127 - acc: 0.9304\n",
      "Epoch 112/300\n",
      "60000/60000 [==============================] - 0s 5us/step - loss: 0.0123 - acc: 0.9323\n",
      "Epoch 113/300\n",
      "60000/60000 [==============================] - 0s 5us/step - loss: 0.0127 - acc: 0.9301\n",
      "Epoch 114/300\n",
      "60000/60000 [==============================] - 0s 5us/step - loss: 0.0124 - acc: 0.9320\n",
      "Epoch 115/300\n",
      "60000/60000 [==============================] - 0s 6us/step - loss: 0.0124 - acc: 0.9316\n",
      "Epoch 116/300\n",
      "60000/60000 [==============================] - 0s 6us/step - loss: 0.0128 - acc: 0.9298\n",
      "Epoch 117/300\n",
      "60000/60000 [==============================] - 0s 5us/step - loss: 0.0132 - acc: 0.9272\n",
      "Epoch 118/300\n",
      "60000/60000 [==============================] - 0s 5us/step - loss: 0.0127 - acc: 0.9293\n",
      "Epoch 119/300\n",
      "60000/60000 [==============================] - 0s 5us/step - loss: 0.0128 - acc: 0.9289\n",
      "Epoch 120/300\n",
      "60000/60000 [==============================] - 0s 5us/step - loss: 0.0129 - acc: 0.9288\n",
      "Epoch 121/300\n",
      "60000/60000 [==============================] - 0s 5us/step - loss: 0.0124 - acc: 0.9316\n",
      "Epoch 122/300\n",
      "60000/60000 [==============================] - 0s 5us/step - loss: 0.0122 - acc: 0.9326\n",
      "Epoch 123/300\n",
      "60000/60000 [==============================] - 0s 6us/step - loss: 0.0127 - acc: 0.9304\n",
      "Epoch 124/300\n",
      "60000/60000 [==============================] - 0s 5us/step - loss: 0.0127 - acc: 0.9304\n",
      "Epoch 125/300\n",
      "60000/60000 [==============================] - 0s 5us/step - loss: 0.0124 - acc: 0.9315\n",
      "Epoch 126/300\n",
      "60000/60000 [==============================] - 0s 5us/step - loss: 0.0127 - acc: 0.9303\n",
      "Epoch 127/300\n",
      "60000/60000 [==============================] - 0s 5us/step - loss: 0.0123 - acc: 0.9327\n",
      "Epoch 128/300\n",
      "60000/60000 [==============================] - 0s 5us/step - loss: 0.0123 - acc: 0.9329\n",
      "Epoch 129/300\n",
      "60000/60000 [==============================] - 0s 5us/step - loss: 0.0126 - acc: 0.9313\n",
      "Epoch 130/300\n",
      "60000/60000 [==============================] - 0s 5us/step - loss: 0.0125 - acc: 0.9314\n",
      "Epoch 131/300\n",
      "60000/60000 [==============================] - 0s 6us/step - loss: 0.0128 - acc: 0.9291\n",
      "Epoch 132/300\n",
      "60000/60000 [==============================] - 0s 5us/step - loss: 0.0124 - acc: 0.9315\n",
      "Epoch 133/300\n",
      "60000/60000 [==============================] - 0s 5us/step - loss: 0.0126 - acc: 0.9307\n",
      "Epoch 134/300\n",
      "60000/60000 [==============================] - 0s 5us/step - loss: 0.0131 - acc: 0.9274\n",
      "Epoch 135/300\n",
      "60000/60000 [==============================] - 0s 5us/step - loss: 0.0127 - acc: 0.9294\n",
      "Epoch 136/300\n",
      "60000/60000 [==============================] - 0s 5us/step - loss: 0.0130 - acc: 0.9276\n",
      "Epoch 137/300\n",
      "60000/60000 [==============================] - 0s 5us/step - loss: 0.0126 - acc: 0.9304\n",
      "Epoch 138/300\n",
      "60000/60000 [==============================] - 0s 5us/step - loss: 0.0129 - acc: 0.9293\n",
      "Epoch 139/300\n",
      "60000/60000 [==============================] - 0s 5us/step - loss: 0.0125 - acc: 0.9309\n",
      "Epoch 140/300\n",
      "60000/60000 [==============================] - 0s 5us/step - loss: 0.0126 - acc: 0.9310\n",
      "Epoch 141/300\n",
      "60000/60000 [==============================] - 0s 5us/step - loss: 0.0125 - acc: 0.9312\n",
      "Epoch 142/300\n",
      "60000/60000 [==============================] - 0s 5us/step - loss: 0.0126 - acc: 0.9308\n",
      "Epoch 143/300\n",
      "60000/60000 [==============================] - 0s 5us/step - loss: 0.0125 - acc: 0.9309\n",
      "Epoch 144/300\n",
      "60000/60000 [==============================] - 0s 5us/step - loss: 0.0126 - acc: 0.9298\n",
      "Epoch 145/300\n",
      "60000/60000 [==============================] - 0s 5us/step - loss: 0.0129 - acc: 0.9287\n",
      "Epoch 146/300\n",
      "60000/60000 [==============================] - 0s 5us/step - loss: 0.0125 - acc: 0.9308\n",
      "Epoch 147/300\n",
      "60000/60000 [==============================] - 0s 5us/step - loss: 0.0125 - acc: 0.9310\n",
      "Epoch 148/300\n",
      "60000/60000 [==============================] - 0s 5us/step - loss: 0.0126 - acc: 0.9299\n",
      "Epoch 149/300\n",
      "60000/60000 [==============================] - 0s 6us/step - loss: 0.0128 - acc: 0.9300\n",
      "Epoch 150/300\n",
      "60000/60000 [==============================] - 0s 5us/step - loss: 0.0125 - acc: 0.9314\n",
      "Epoch 151/300\n",
      "60000/60000 [==============================] - 0s 5us/step - loss: 0.0124 - acc: 0.9321\n",
      "Epoch 152/300\n",
      "60000/60000 [==============================] - 0s 5us/step - loss: 0.0125 - acc: 0.9317\n",
      "Epoch 153/300\n",
      "60000/60000 [==============================] - 0s 5us/step - loss: 0.0129 - acc: 0.9282\n",
      "Epoch 154/300\n",
      "60000/60000 [==============================] - 0s 5us/step - loss: 0.0124 - acc: 0.9314\n",
      "Epoch 155/300\n",
      "60000/60000 [==============================] - 0s 5us/step - loss: 0.0125 - acc: 0.9307\n",
      "Epoch 156/300\n",
      "60000/60000 [==============================] - 0s 7us/step - loss: 0.0128 - acc: 0.9288\n",
      "Epoch 157/300\n",
      "60000/60000 [==============================] - 0s 5us/step - loss: 0.0125 - acc: 0.9318\n",
      "Epoch 158/300\n",
      "60000/60000 [==============================] - 0s 5us/step - loss: 0.0123 - acc: 0.9327\n",
      "Epoch 159/300\n",
      "60000/60000 [==============================] - 0s 7us/step - loss: 0.0128 - acc: 0.9299\n",
      "Epoch 160/300\n",
      "60000/60000 [==============================] - 0s 6us/step - loss: 0.0126 - acc: 0.9310\n",
      "Epoch 161/300\n",
      "60000/60000 [==============================] - 0s 6us/step - loss: 0.0123 - acc: 0.9320\n",
      "Epoch 162/300\n"
     ]
    },
    {
     "name": "stdout",
     "output_type": "stream",
     "text": [
      "60000/60000 [==============================] - 0s 6us/step - loss: 0.0127 - acc: 0.9292\n",
      "Epoch 163/300\n",
      "60000/60000 [==============================] - 0s 7us/step - loss: 0.0127 - acc: 0.9279\n",
      "Epoch 164/300\n",
      "60000/60000 [==============================] - 0s 6us/step - loss: 0.0126 - acc: 0.9305\n",
      "Epoch 165/300\n",
      "60000/60000 [==============================] - 0s 5us/step - loss: 0.0128 - acc: 0.9286\n",
      "Epoch 166/300\n",
      "60000/60000 [==============================] - 0s 5us/step - loss: 0.0128 - acc: 0.9290\n",
      "Epoch 167/300\n",
      "60000/60000 [==============================] - 0s 5us/step - loss: 0.0126 - acc: 0.9304\n",
      "Epoch 168/300\n",
      "60000/60000 [==============================] - 0s 5us/step - loss: 0.0127 - acc: 0.9286\n",
      "Epoch 169/300\n",
      "60000/60000 [==============================] - 0s 5us/step - loss: 0.0124 - acc: 0.9319\n",
      "Epoch 170/300\n",
      "60000/60000 [==============================] - 0s 5us/step - loss: 0.0125 - acc: 0.9310\n",
      "Epoch 171/300\n",
      "60000/60000 [==============================] - 0s 5us/step - loss: 0.0122 - acc: 0.9326\n",
      "Epoch 172/300\n",
      "60000/60000 [==============================] - 0s 5us/step - loss: 0.0124 - acc: 0.9320\n",
      "Epoch 173/300\n",
      "60000/60000 [==============================] - 0s 5us/step - loss: 0.0123 - acc: 0.9329\n",
      "Epoch 174/300\n",
      "60000/60000 [==============================] - 0s 5us/step - loss: 0.0123 - acc: 0.9324\n",
      "Epoch 175/300\n",
      "60000/60000 [==============================] - 0s 4us/step - loss: 0.0125 - acc: 0.9310\n",
      "Epoch 176/300\n",
      "60000/60000 [==============================] - 0s 5us/step - loss: 0.0123 - acc: 0.9322\n",
      "Epoch 177/300\n",
      "60000/60000 [==============================] - 0s 5us/step - loss: 0.0123 - acc: 0.9320\n",
      "Epoch 178/300\n",
      "60000/60000 [==============================] - 0s 4us/step - loss: 0.0125 - acc: 0.9298\n",
      "Epoch 179/300\n",
      "60000/60000 [==============================] - 0s 5us/step - loss: 0.0123 - acc: 0.9321\n",
      "Epoch 180/300\n",
      "60000/60000 [==============================] - 0s 5us/step - loss: 0.0123 - acc: 0.9315\n",
      "Epoch 181/300\n",
      "60000/60000 [==============================] - 0s 7us/step - loss: 0.0132 - acc: 0.9262\n",
      "Epoch 182/300\n",
      "60000/60000 [==============================] - 0s 6us/step - loss: 0.0126 - acc: 0.9308\n",
      "Epoch 183/300\n",
      "60000/60000 [==============================] - 0s 5us/step - loss: 0.0127 - acc: 0.9303\n",
      "Epoch 184/300\n",
      "60000/60000 [==============================] - 0s 4us/step - loss: 0.0124 - acc: 0.9319\n",
      "Epoch 185/300\n",
      "60000/60000 [==============================] - 0s 6us/step - loss: 0.0124 - acc: 0.9316\n",
      "Epoch 186/300\n",
      "60000/60000 [==============================] - 0s 5us/step - loss: 0.0127 - acc: 0.9293\n",
      "Epoch 187/300\n",
      "60000/60000 [==============================] - 0s 5us/step - loss: 0.0126 - acc: 0.9301\n",
      "Epoch 188/300\n",
      "60000/60000 [==============================] - 0s 8us/step - loss: 0.0125 - acc: 0.9306\n",
      "Epoch 189/300\n",
      "60000/60000 [==============================] - 0s 5us/step - loss: 0.0128 - acc: 0.9295\n",
      "Epoch 190/300\n",
      "60000/60000 [==============================] - 0s 4us/step - loss: 0.0127 - acc: 0.9291\n",
      "Epoch 191/300\n",
      "60000/60000 [==============================] - 0s 5us/step - loss: 0.0130 - acc: 0.9277\n",
      "Epoch 192/300\n",
      "60000/60000 [==============================] - 0s 4us/step - loss: 0.0129 - acc: 0.9285\n",
      "Epoch 193/300\n",
      "60000/60000 [==============================] - 0s 5us/step - loss: 0.0127 - acc: 0.9293\n",
      "Epoch 194/300\n",
      "60000/60000 [==============================] - 0s 4us/step - loss: 0.0126 - acc: 0.9302\n",
      "Epoch 195/300\n",
      "60000/60000 [==============================] - 0s 4us/step - loss: 0.0125 - acc: 0.9304\n",
      "Epoch 196/300\n",
      "60000/60000 [==============================] - 0s 4us/step - loss: 0.0129 - acc: 0.9286\n",
      "Epoch 197/300\n",
      "60000/60000 [==============================] - 0s 5us/step - loss: 0.0128 - acc: 0.9291\n",
      "Epoch 198/300\n",
      "60000/60000 [==============================] - 0s 4us/step - loss: 0.0123 - acc: 0.9326\n",
      "Epoch 199/300\n",
      "60000/60000 [==============================] - 0s 4us/step - loss: 0.0123 - acc: 0.9321\n",
      "Epoch 200/300\n",
      "60000/60000 [==============================] - 0s 4us/step - loss: 0.0122 - acc: 0.9333\n",
      "Epoch 201/300\n",
      "60000/60000 [==============================] - 0s 4us/step - loss: 0.0122 - acc: 0.9328\n",
      "Epoch 202/300\n",
      "60000/60000 [==============================] - 0s 4us/step - loss: 0.0122 - acc: 0.9335\n",
      "Epoch 203/300\n",
      "60000/60000 [==============================] - 0s 4us/step - loss: 0.0127 - acc: 0.9299\n",
      "Epoch 204/300\n",
      "60000/60000 [==============================] - 0s 4us/step - loss: 0.0127 - acc: 0.9301\n",
      "Epoch 205/300\n",
      "60000/60000 [==============================] - 0s 5us/step - loss: 0.0123 - acc: 0.9326\n",
      "Epoch 206/300\n",
      "60000/60000 [==============================] - 0s 5us/step - loss: 0.0129 - acc: 0.9284\n",
      "Epoch 207/300\n",
      "60000/60000 [==============================] - 0s 5us/step - loss: 0.0130 - acc: 0.9277\n",
      "Epoch 208/300\n",
      "60000/60000 [==============================] - 0s 5us/step - loss: 0.0123 - acc: 0.9324\n",
      "Epoch 209/300\n",
      "60000/60000 [==============================] - 0s 4us/step - loss: 0.0128 - acc: 0.9294\n",
      "Epoch 210/300\n",
      "60000/60000 [==============================] - 0s 4us/step - loss: 0.0127 - acc: 0.9301\n",
      "Epoch 211/300\n",
      "60000/60000 [==============================] - 0s 5us/step - loss: 0.0126 - acc: 0.9305\n",
      "Epoch 212/300\n",
      "60000/60000 [==============================] - 0s 6us/step - loss: 0.0122 - acc: 0.9326\n",
      "Epoch 213/300\n",
      "60000/60000 [==============================] - 0s 5us/step - loss: 0.0121 - acc: 0.9331\n",
      "Epoch 214/300\n",
      "60000/60000 [==============================] - 0s 5us/step - loss: 0.0126 - acc: 0.9309\n",
      "Epoch 215/300\n",
      "60000/60000 [==============================] - 0s 5us/step - loss: 0.0123 - acc: 0.9321\n",
      "Epoch 216/300\n",
      "60000/60000 [==============================] - 0s 5us/step - loss: 0.0123 - acc: 0.9322\n",
      "Epoch 217/300\n",
      "60000/60000 [==============================] - 0s 5us/step - loss: 0.0124 - acc: 0.9318\n",
      "Epoch 218/300\n",
      "60000/60000 [==============================] - 0s 5us/step - loss: 0.0124 - acc: 0.9307\n",
      "Epoch 219/300\n",
      "60000/60000 [==============================] - 0s 7us/step - loss: 0.0125 - acc: 0.9308\n",
      "Epoch 220/300\n",
      "60000/60000 [==============================] - 0s 8us/step - loss: 0.0125 - acc: 0.9305\n",
      "Epoch 221/300\n",
      "60000/60000 [==============================] - 1s 10us/step - loss: 0.0122 - acc: 0.9329\n",
      "Epoch 222/300\n",
      "60000/60000 [==============================] - 1s 9us/step - loss: 0.0124 - acc: 0.9311\n",
      "Epoch 223/300\n",
      "60000/60000 [==============================] - 0s 8us/step - loss: 0.0122 - acc: 0.9323\n",
      "Epoch 224/300\n",
      "60000/60000 [==============================] - 0s 8us/step - loss: 0.0125 - acc: 0.9295\n",
      "Epoch 225/300\n",
      "60000/60000 [==============================] - 0s 7us/step - loss: 0.0123 - acc: 0.9317\n",
      "Epoch 226/300\n",
      "60000/60000 [==============================] - 0s 8us/step - loss: 0.0121 - acc: 0.9333\n",
      "Epoch 227/300\n",
      "60000/60000 [==============================] - 0s 6us/step - loss: 0.0122 - acc: 0.9324\n",
      "Epoch 228/300\n",
      "60000/60000 [==============================] - 0s 7us/step - loss: 0.0127 - acc: 0.9286\n",
      "Epoch 229/300\n",
      "60000/60000 [==============================] - 0s 7us/step - loss: 0.0127 - acc: 0.9294\n",
      "Epoch 230/300\n",
      "60000/60000 [==============================] - 0s 7us/step - loss: 0.0124 - acc: 0.9316\n",
      "Epoch 231/300\n",
      "60000/60000 [==============================] - 0s 6us/step - loss: 0.0124 - acc: 0.9321\n",
      "Epoch 232/300\n",
      "60000/60000 [==============================] - 0s 7us/step - loss: 0.0124 - acc: 0.9312\n",
      "Epoch 233/300\n",
      "60000/60000 [==============================] - 0s 6us/step - loss: 0.0130 - acc: 0.9267\n",
      "Epoch 234/300\n",
      "60000/60000 [==============================] - 0s 6us/step - loss: 0.0124 - acc: 0.9310\n",
      "Epoch 235/300\n",
      "60000/60000 [==============================] - 0s 5us/step - loss: 0.0125 - acc: 0.9314\n",
      "Epoch 236/300\n",
      "60000/60000 [==============================] - 1s 8us/step - loss: 0.0124 - acc: 0.9319\n",
      "Epoch 237/300\n",
      "60000/60000 [==============================] - 0s 8us/step - loss: 0.0124 - acc: 0.9326\n",
      "Epoch 238/300\n",
      "60000/60000 [==============================] - 0s 7us/step - loss: 0.0126 - acc: 0.9306\n",
      "Epoch 239/300\n",
      "60000/60000 [==============================] - 1s 9us/step - loss: 0.0126 - acc: 0.9296\n",
      "Epoch 240/300\n",
      "60000/60000 [==============================] - 1s 9us/step - loss: 0.0130 - acc: 0.9291\n",
      "Epoch 241/300\n",
      "60000/60000 [==============================] - 1s 9us/step - loss: 0.0127 - acc: 0.9300\n",
      "Epoch 242/300\n"
     ]
    },
    {
     "name": "stdout",
     "output_type": "stream",
     "text": [
      "60000/60000 [==============================] - 0s 7us/step - loss: 0.0123 - acc: 0.9328\n",
      "Epoch 243/300\n",
      "60000/60000 [==============================] - 0s 8us/step - loss: 0.0124 - acc: 0.9310\n",
      "Epoch 244/300\n",
      "60000/60000 [==============================] - 0s 7us/step - loss: 0.0126 - acc: 0.9303\n",
      "Epoch 245/300\n",
      "60000/60000 [==============================] - 0s 8us/step - loss: 0.0122 - acc: 0.9329\n",
      "Epoch 246/300\n",
      "60000/60000 [==============================] - 0s 6us/step - loss: 0.0125 - acc: 0.9306\n",
      "Epoch 247/300\n",
      "60000/60000 [==============================] - 0s 7us/step - loss: 0.0129 - acc: 0.9289\n",
      "Epoch 248/300\n",
      "60000/60000 [==============================] - 0s 7us/step - loss: 0.0122 - acc: 0.9327\n",
      "Epoch 249/300\n",
      "60000/60000 [==============================] - 0s 6us/step - loss: 0.0123 - acc: 0.9325\n",
      "Epoch 250/300\n",
      "60000/60000 [==============================] - 0s 4us/step - loss: 0.0129 - acc: 0.9292\n",
      "Epoch 251/300\n",
      "60000/60000 [==============================] - 0s 6us/step - loss: 0.0130 - acc: 0.9285\n",
      "Epoch 252/300\n",
      "60000/60000 [==============================] - 0s 7us/step - loss: 0.0121 - acc: 0.9338\n",
      "Epoch 253/300\n",
      "60000/60000 [==============================] - 0s 7us/step - loss: 0.0126 - acc: 0.9301\n",
      "Epoch 254/300\n",
      "60000/60000 [==============================] - 1s 10us/step - loss: 0.0131 - acc: 0.9279\n",
      "Epoch 255/300\n",
      "60000/60000 [==============================] - 0s 7us/step - loss: 0.0122 - acc: 0.9330\n",
      "Epoch 256/300\n",
      "60000/60000 [==============================] - 0s 7us/step - loss: 0.0122 - acc: 0.9325\n",
      "Epoch 257/300\n",
      "60000/60000 [==============================] - 0s 7us/step - loss: 0.0119 - acc: 0.9344\n",
      "Epoch 258/300\n",
      "60000/60000 [==============================] - 0s 8us/step - loss: 0.0121 - acc: 0.9331\n",
      "Epoch 259/300\n",
      "60000/60000 [==============================] - 0s 7us/step - loss: 0.0127 - acc: 0.9300\n",
      "Epoch 260/300\n",
      "60000/60000 [==============================] - 0s 8us/step - loss: 0.0121 - acc: 0.9342\n",
      "Epoch 261/300\n",
      "60000/60000 [==============================] - 0s 6us/step - loss: 0.0123 - acc: 0.9326\n",
      "Epoch 262/300\n",
      "60000/60000 [==============================] - 0s 5us/step - loss: 0.0119 - acc: 0.9346\n",
      "Epoch 263/300\n",
      "60000/60000 [==============================] - 0s 5us/step - loss: 0.0123 - acc: 0.9324\n",
      "Epoch 264/300\n",
      "60000/60000 [==============================] - 0s 5us/step - loss: 0.0125 - acc: 0.9317\n",
      "Epoch 265/300\n",
      "60000/60000 [==============================] - 0s 5us/step - loss: 0.0123 - acc: 0.9327\n",
      "Epoch 266/300\n",
      "60000/60000 [==============================] - 0s 5us/step - loss: 0.0121 - acc: 0.9339\n",
      "Epoch 267/300\n",
      "60000/60000 [==============================] - 0s 6us/step - loss: 0.0122 - acc: 0.9328\n",
      "Epoch 268/300\n",
      "60000/60000 [==============================] - 0s 6us/step - loss: 0.0123 - acc: 0.9316\n",
      "Epoch 269/300\n",
      "60000/60000 [==============================] - 0s 5us/step - loss: 0.0126 - acc: 0.9299\n",
      "Epoch 270/300\n",
      "60000/60000 [==============================] - 0s 5us/step - loss: 0.0125 - acc: 0.9318\n",
      "Epoch 271/300\n",
      "60000/60000 [==============================] - 0s 6us/step - loss: 0.0127 - acc: 0.9306\n",
      "Epoch 272/300\n",
      "60000/60000 [==============================] - 0s 6us/step - loss: 0.0130 - acc: 0.9281\n",
      "Epoch 273/300\n",
      "60000/60000 [==============================] - 0s 5us/step - loss: 0.0132 - acc: 0.9270\n",
      "Epoch 274/300\n",
      "60000/60000 [==============================] - 0s 6us/step - loss: 0.0131 - acc: 0.9267\n",
      "Epoch 275/300\n",
      "60000/60000 [==============================] - 0s 6us/step - loss: 0.0123 - acc: 0.9317\n",
      "Epoch 276/300\n",
      "60000/60000 [==============================] - 0s 6us/step - loss: 0.0124 - acc: 0.9311\n",
      "Epoch 277/300\n",
      "60000/60000 [==============================] - 0s 6us/step - loss: 0.0127 - acc: 0.9290\n",
      "Epoch 278/300\n",
      "60000/60000 [==============================] - 0s 5us/step - loss: 0.0124 - acc: 0.9319\n",
      "Epoch 279/300\n",
      "60000/60000 [==============================] - 0s 5us/step - loss: 0.0125 - acc: 0.9312\n",
      "Epoch 280/300\n",
      "60000/60000 [==============================] - 0s 5us/step - loss: 0.0129 - acc: 0.9293\n",
      "Epoch 281/300\n",
      "60000/60000 [==============================] - 0s 7us/step - loss: 0.0124 - acc: 0.9317\n",
      "Epoch 282/300\n",
      "60000/60000 [==============================] - 0s 6us/step - loss: 0.0127 - acc: 0.9299\n",
      "Epoch 283/300\n",
      "60000/60000 [==============================] - 0s 6us/step - loss: 0.0125 - acc: 0.9307\n",
      "Epoch 284/300\n",
      "60000/60000 [==============================] - 0s 6us/step - loss: 0.0127 - acc: 0.9284\n",
      "Epoch 285/300\n",
      "60000/60000 [==============================] - 0s 6us/step - loss: 0.0124 - acc: 0.9312\n",
      "Epoch 286/300\n",
      "60000/60000 [==============================] - 0s 6us/step - loss: 0.0121 - acc: 0.9329\n",
      "Epoch 287/300\n",
      "60000/60000 [==============================] - 0s 5us/step - loss: 0.0122 - acc: 0.9330\n",
      "Epoch 288/300\n",
      "60000/60000 [==============================] - 0s 5us/step - loss: 0.0123 - acc: 0.9318\n",
      "Epoch 289/300\n",
      "60000/60000 [==============================] - 0s 5us/step - loss: 0.0126 - acc: 0.9304\n",
      "Epoch 290/300\n",
      "60000/60000 [==============================] - 0s 5us/step - loss: 0.0123 - acc: 0.9320\n",
      "Epoch 291/300\n",
      "60000/60000 [==============================] - 0s 5us/step - loss: 0.0126 - acc: 0.9304\n",
      "Epoch 292/300\n",
      "60000/60000 [==============================] - 0s 6us/step - loss: 0.0128 - acc: 0.9281\n",
      "Epoch 293/300\n",
      "60000/60000 [==============================] - 0s 6us/step - loss: 0.0127 - acc: 0.9289\n",
      "Epoch 294/300\n",
      "60000/60000 [==============================] - 0s 6us/step - loss: 0.0126 - acc: 0.9303\n",
      "Epoch 295/300\n",
      "60000/60000 [==============================] - 0s 6us/step - loss: 0.0126 - acc: 0.9301\n",
      "Epoch 296/300\n",
      "60000/60000 [==============================] - 0s 6us/step - loss: 0.0124 - acc: 0.9315\n",
      "Epoch 297/300\n",
      "60000/60000 [==============================] - 0s 6us/step - loss: 0.0122 - acc: 0.9332\n",
      "Epoch 298/300\n",
      "60000/60000 [==============================] - 0s 5us/step - loss: 0.0124 - acc: 0.9318\n",
      "Epoch 299/300\n",
      "60000/60000 [==============================] - 0s 7us/step - loss: 0.0121 - acc: 0.9331\n",
      "Epoch 300/300\n",
      "60000/60000 [==============================] - 0s 6us/step - loss: 0.0124 - acc: 0.9322\n"
     ]
    },
    {
     "data": {
      "text/plain": [
       "<keras.callbacks.History at 0xb2ba19c88>"
      ]
     },
     "execution_count": 119,
     "metadata": {},
     "output_type": "execute_result"
    }
   ],
   "source": [
    "model.fit(x_train, y_train, batch_size=1000, epochs=300)"
   ]
  },
  {
   "cell_type": "markdown",
   "metadata": {},
   "source": [
    "/if add the node and hidden writing without modifying the activition function, the outcome isn't well.\n",
    "/modifying the activition funtion with \"relu\", \"tanh\" is the efficiaent way to get more accurate\n",
    "/In my case, epochs>=2000, accurate~0.93\n"
   ]
  }
 ],
 "metadata": {
  "kernelspec": {
   "display_name": "Python 3",
   "language": "python",
   "name": "python3"
  },
  "language_info": {
   "codemirror_mode": {
    "name": "ipython",
    "version": 3
   },
   "file_extension": ".py",
   "mimetype": "text/x-python",
   "name": "python",
   "nbconvert_exporter": "python",
   "pygments_lexer": "ipython3",
   "version": "3.6.5"
  }
 },
 "nbformat": 4,
 "nbformat_minor": 2
}
