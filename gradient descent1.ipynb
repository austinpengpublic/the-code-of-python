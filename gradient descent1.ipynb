{
 "cells": [
  {
   "cell_type": "code",
   "execution_count": 5,
   "metadata": {},
   "outputs": [],
   "source": [
    "%matplotlib inline\n",
    "\n",
    "import numpy as np\n",
    "import matplotlib.pyplot as plt\n",
    "import pandas as pd"
   ]
  },
  {
   "cell_type": "code",
   "execution_count": 6,
   "metadata": {},
   "outputs": [],
   "source": [
    "x=np.linspace(0,100,101)"
   ]
  },
  {
   "cell_type": "code",
   "execution_count": 7,
   "metadata": {},
   "outputs": [
    {
     "data": {
      "text/plain": [
       "[<matplotlib.lines.Line2D at 0x1159c3e80>]"
      ]
     },
     "execution_count": 7,
     "metadata": {},
     "output_type": "execute_result"
    },
    {
     "data": {
      "image/png": "[encoded data removed]",
      "text/plain": [
       "<Figure size 432x288 with 1 Axes>"
      ]
     },
     "metadata": {},
     "output_type": "display_data"
    }
   ],
   "source": [
    "y=(x-50)*(x-50)\n",
    "plt.plot(x,y)"
   ]
  },
  {
   "cell_type": "code",
   "execution_count": 20,
   "metadata": {},
   "outputs": [
    {
     "name": "stdout",
     "output_type": "stream",
     "text": [
      "x:50.033845119385774\n",
      "y:0.0011454921062372689\n"
     ]
    }
   ],
   "source": [
    "start=np.random.randint(0,101)\n",
    "def f(x):\n",
    "    y=(x-50)*(x-50)\n",
    "    return y\n",
    "\n",
    "def loss(x):\n",
    "    c = 0-f(x)\n",
    "    l =-2*x\n",
    "    return l\n",
    "\n",
    "\n",
    "r=0.005\n",
    "a=start\n",
    "b=f(a)\n",
    "\n",
    "for i in range(0,1001):\n",
    "    \n",
    "    i=a\n",
    "    j=b\n",
    "    \n",
    "    \n",
    "    a=a-r*loss(a)\n",
    "    b=f(a) \n",
    "    \n",
    "    \n",
    "    if (j<=b):\n",
    "        print (\"x:\" +repr(i))\n",
    "        print (\"y:\"+repr(j))    \n",
    "        break\n",
    "\n",
    "        "
   ]
  },
  {
   "cell_type": "code",
   "execution_count": null,
   "metadata": {},
   "outputs": [],
   "source": []
  },
  {
   "cell_type": "code",
   "execution_count": null,
   "metadata": {},
   "outputs": [],
   "source": []
  }
 ],
 "metadata": {
  "kernelspec": {
   "display_name": "Python 3",
   "language": "python",
   "name": "python3"
  },
  "language_info": {
   "codemirror_mode": {
    "name": "ipython",
    "version": 3
   },
   "file_extension": ".py",
   "mimetype": "text/x-python",
   "name": "python",
   "nbconvert_exporter": "python",
   "pygments_lexer": "ipython3",
   "version": "3.6.5"
  }
 },
 "nbformat": 4,
 "nbformat_minor": 2
}
