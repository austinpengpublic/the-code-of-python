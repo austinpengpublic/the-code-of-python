{
 "cells": [
  {
   "cell_type": "markdown",
   "metadata": {},
   "source": [
    "<br>\n",
    "<font face=\"黑体\"> Version of 10 interval of y  (unit: 10000dollars/ num of data:20000)"
   ]
  },
  {
   "cell_type": "code",
   "execution_count": 51,
   "metadata": {},
   "outputs": [],
   "source": [
    "%matplotlib inline\n",
    "\n",
    "import matplotlib.pyplot as plt\n",
    "import numpy as np\n",
    "import pandas as pd \n",
    "\n",
    "from keras.models import Sequential\n",
    "from keras.layers import Dense, Activation\n",
    "from keras.optimizers import SGD\n",
    "\n",
    "from keras.datasets import mnist\n",
    "\n",
    "from keras.utils import np_utils\n",
    "\n",
    "df = pd.read_excel('raw_used_car_data.xlsx')"
   ]
  },
  {
   "cell_type": "code",
   "execution_count": 52,
   "metadata": {},
   "outputs": [
    {
     "data": {
      "text/html": [
       "<div>\n",
       "<style scoped>\n",
       "    .dataframe tbody tr th:only-of-type {\n",
       "        vertical-align: middle;\n",
       "    }\n",
       "\n",
       "    .dataframe tbody tr th {\n",
       "        vertical-align: top;\n",
       "    }\n",
       "\n",
       "    .dataframe thead th {\n",
       "        text-align: right;\n",
       "    }\n",
       "</style>\n",
       "<table border=\"1\" class=\"dataframe\">\n",
       "  <thead>\n",
       "    <tr style=\"text-align: right;\">\n",
       "      <th></th>\n",
       "      <th>ID</th>\n",
       "      <th>make</th>\n",
       "      <th>model</th>\n",
       "      <th>months_old</th>\n",
       "      <th>power</th>\n",
       "      <th>sale_type</th>\n",
       "      <th>num_owners</th>\n",
       "      <th>gear_type</th>\n",
       "      <th>fuel_type</th>\n",
       "      <th>kms</th>\n",
       "      <th>price</th>\n",
       "    </tr>\n",
       "  </thead>\n",
       "  <tbody>\n",
       "    <tr>\n",
       "      <th>0</th>\n",
       "      <td>97860</td>\n",
       "      <td>Porsche</td>\n",
       "      <td>911</td>\n",
       "      <td>240.0</td>\n",
       "      <td>210.0</td>\n",
       "      <td>classic</td>\n",
       "      <td>3.0</td>\n",
       "      <td>manual</td>\n",
       "      <td>gasoline</td>\n",
       "      <td>202000.0</td>\n",
       "      <td>999999.0</td>\n",
       "    </tr>\n",
       "    <tr>\n",
       "      <th>1</th>\n",
       "      <td>27821</td>\n",
       "      <td>Ford</td>\n",
       "      <td>Mustang</td>\n",
       "      <td>54.0</td>\n",
       "      <td>487.0</td>\n",
       "      <td>used</td>\n",
       "      <td>1.0</td>\n",
       "      <td>manual</td>\n",
       "      <td>gasoline</td>\n",
       "      <td>30000.0</td>\n",
       "      <td>685000.0</td>\n",
       "    </tr>\n",
       "    <tr>\n",
       "      <th>2</th>\n",
       "      <td>97801</td>\n",
       "      <td>Porsche</td>\n",
       "      <td>911</td>\n",
       "      <td>358.0</td>\n",
       "      <td>220.0</td>\n",
       "      <td>used</td>\n",
       "      <td>NaN</td>\n",
       "      <td>manual</td>\n",
       "      <td>gasoline</td>\n",
       "      <td>56300.0</td>\n",
       "      <td>555555.0</td>\n",
       "    </tr>\n",
       "    <tr>\n",
       "      <th>3</th>\n",
       "      <td>98251</td>\n",
       "      <td>Porsche</td>\n",
       "      <td>911</td>\n",
       "      <td>14.0</td>\n",
       "      <td>368.0</td>\n",
       "      <td>used</td>\n",
       "      <td>1.0</td>\n",
       "      <td>manual</td>\n",
       "      <td>gasoline</td>\n",
       "      <td>2800.0</td>\n",
       "      <td>470000.0</td>\n",
       "    </tr>\n",
       "    <tr>\n",
       "      <th>4</th>\n",
       "      <td>98250</td>\n",
       "      <td>Porsche</td>\n",
       "      <td>911</td>\n",
       "      <td>3.0</td>\n",
       "      <td>515.0</td>\n",
       "      <td>used</td>\n",
       "      <td>NaN</td>\n",
       "      <td>NaN</td>\n",
       "      <td>gasoline</td>\n",
       "      <td>10.0</td>\n",
       "      <td>450000.0</td>\n",
       "    </tr>\n",
       "  </tbody>\n",
       "</table>\n",
       "</div>"
      ],
      "text/plain": [
       "      ID     make    model  months_old  power sale_type  num_owners gear_type  \\\n",
       "0  97860  Porsche      911       240.0  210.0   classic         3.0    manual   \n",
       "1  27821     Ford  Mustang        54.0  487.0      used         1.0    manual   \n",
       "2  97801  Porsche      911       358.0  220.0      used         NaN    manual   \n",
       "3  98251  Porsche      911        14.0  368.0      used         1.0    manual   \n",
       "4  98250  Porsche      911         3.0  515.0      used         NaN       NaN   \n",
       "\n",
       "  fuel_type       kms     price  \n",
       "0  gasoline  202000.0  999999.0  \n",
       "1  gasoline   30000.0  685000.0  \n",
       "2  gasoline   56300.0  555555.0  \n",
       "3  gasoline    2800.0  470000.0  \n",
       "4  gasoline      10.0  450000.0  "
      ]
     },
     "execution_count": 52,
     "metadata": {},
     "output_type": "execute_result"
    }
   ],
   "source": [
    "df.head()"
   ]
  },
  {
   "cell_type": "code",
   "execution_count": 53,
   "metadata": {},
   "outputs": [],
   "source": [
    "# nurmeric\n",
    "df_t = pd.read_excel('training_x1.xlsx')"
   ]
  },
  {
   "cell_type": "code",
   "execution_count": 54,
   "metadata": {},
   "outputs": [
    {
     "data": {
      "text/html": [
       "<div>\n",
       "<style scoped>\n",
       "    .dataframe tbody tr th:only-of-type {\n",
       "        vertical-align: middle;\n",
       "    }\n",
       "\n",
       "    .dataframe tbody tr th {\n",
       "        vertical-align: top;\n",
       "    }\n",
       "\n",
       "    .dataframe thead th {\n",
       "        text-align: right;\n",
       "    }\n",
       "</style>\n",
       "<table border=\"1\" class=\"dataframe\">\n",
       "  <thead>\n",
       "    <tr style=\"text-align: right;\">\n",
       "      <th></th>\n",
       "      <th>ID</th>\n",
       "      <th>make</th>\n",
       "      <th>months_old</th>\n",
       "      <th>power</th>\n",
       "      <th>sale_type</th>\n",
       "      <th>num_owners</th>\n",
       "      <th>gear_type</th>\n",
       "      <th>fuel_type</th>\n",
       "      <th>kms</th>\n",
       "      <th>price</th>\n",
       "    </tr>\n",
       "  </thead>\n",
       "  <tbody>\n",
       "    <tr>\n",
       "      <th>0</th>\n",
       "      <td>10662</td>\n",
       "      <td>4</td>\n",
       "      <td>33</td>\n",
       "      <td>85</td>\n",
       "      <td>5</td>\n",
       "      <td>1</td>\n",
       "      <td>2</td>\n",
       "      <td>2</td>\n",
       "      <td>68632</td>\n",
       "      <td>18500</td>\n",
       "    </tr>\n",
       "    <tr>\n",
       "      <th>1</th>\n",
       "      <td>8891</td>\n",
       "      <td>2</td>\n",
       "      <td>50</td>\n",
       "      <td>130</td>\n",
       "      <td>5</td>\n",
       "      <td>1</td>\n",
       "      <td>1</td>\n",
       "      <td>2</td>\n",
       "      <td>60000</td>\n",
       "      <td>24995</td>\n",
       "    </tr>\n",
       "    <tr>\n",
       "      <th>2</th>\n",
       "      <td>11365</td>\n",
       "      <td>4</td>\n",
       "      <td>125</td>\n",
       "      <td>105</td>\n",
       "      <td>5</td>\n",
       "      <td>1</td>\n",
       "      <td>2</td>\n",
       "      <td>2</td>\n",
       "      <td>182000</td>\n",
       "      <td>10000</td>\n",
       "    </tr>\n",
       "    <tr>\n",
       "      <th>3</th>\n",
       "      <td>57055</td>\n",
       "      <td>35</td>\n",
       "      <td>42</td>\n",
       "      <td>103</td>\n",
       "      <td>5</td>\n",
       "      <td>1</td>\n",
       "      <td>1</td>\n",
       "      <td>2</td>\n",
       "      <td>92000</td>\n",
       "      <td>15500</td>\n",
       "    </tr>\n",
       "    <tr>\n",
       "      <th>4</th>\n",
       "      <td>30108</td>\n",
       "      <td>20</td>\n",
       "      <td>127</td>\n",
       "      <td>80</td>\n",
       "      <td>5</td>\n",
       "      <td>1</td>\n",
       "      <td>2</td>\n",
       "      <td>2</td>\n",
       "      <td>210500</td>\n",
       "      <td>5950</td>\n",
       "    </tr>\n",
       "  </tbody>\n",
       "</table>\n",
       "</div>"
      ],
      "text/plain": [
       "      ID  make  months_old  power  sale_type  num_owners  gear_type  \\\n",
       "0  10662     4          33     85          5           1          2   \n",
       "1   8891     2          50    130          5           1          1   \n",
       "2  11365     4         125    105          5           1          2   \n",
       "3  57055    35          42    103          5           1          1   \n",
       "4  30108    20         127     80          5           1          2   \n",
       "\n",
       "   fuel_type     kms  price  \n",
       "0          2   68632  18500  \n",
       "1          2   60000  24995  \n",
       "2          2  182000  10000  \n",
       "3          2   92000  15500  \n",
       "4          2  210500   5950  "
      ]
     },
     "execution_count": 54,
     "metadata": {},
     "output_type": "execute_result"
    }
   ],
   "source": [
    "df_t.head()"
   ]
  },
  {
   "cell_type": "code",
   "execution_count": 55,
   "metadata": {},
   "outputs": [
    {
     "name": "stdout",
     "output_type": "stream",
     "text": [
      "[[     4     33     85 ...      2      2  68632]\n",
      " [     2     50    130 ...      1      2  60000]\n",
      " [     4    125    105 ...      2      2 182000]\n",
      " ...\n",
      " [    13      5    103 ...      2      5     21]\n",
      " [    35     53    150 ...      1      2 107200]\n",
      " [    35     52    103 ...      2      2  90000]]\n"
     ]
    }
   ],
   "source": [
    "##x data\n",
    "x_train= np.array([df_t['make'] , df_t['months_old'] , df_t['power'] , df_t['sale_type'] , df_t['num_owners'] ,  df_t['gear_type'] , \n",
    "            df_t['fuel_type'] , df_t['kms']]) \n",
    "x_train=x_train.T\n",
    "print (x_train)"
   ]
  },
  {
   "cell_type": "code",
   "execution_count": 56,
   "metadata": {},
   "outputs": [
    {
     "data": {
      "text/plain": [
       "21418"
      ]
     },
     "execution_count": 56,
     "metadata": {},
     "output_type": "execute_result"
    }
   ],
   "source": [
    "len(x_train)"
   ]
  },
  {
   "cell_type": "code",
   "execution_count": 57,
   "metadata": {},
   "outputs": [],
   "source": [
    "## put y in [1*20]\n",
    "df_tt = pd.read_excel('training_y1.xlsx')"
   ]
  },
  {
   "cell_type": "code",
   "execution_count": 58,
   "metadata": {},
   "outputs": [
    {
     "data": {
      "text/html": [
       "<div>\n",
       "<style scoped>\n",
       "    .dataframe tbody tr th:only-of-type {\n",
       "        vertical-align: middle;\n",
       "    }\n",
       "\n",
       "    .dataframe tbody tr th {\n",
       "        vertical-align: top;\n",
       "    }\n",
       "\n",
       "    .dataframe thead th {\n",
       "        text-align: right;\n",
       "    }\n",
       "</style>\n",
       "<table border=\"1\" class=\"dataframe\">\n",
       "  <thead>\n",
       "    <tr style=\"text-align: right;\">\n",
       "      <th></th>\n",
       "      <th>1</th>\n",
       "      <th>2</th>\n",
       "      <th>3</th>\n",
       "      <th>4</th>\n",
       "      <th>5</th>\n",
       "      <th>6</th>\n",
       "      <th>7</th>\n",
       "      <th>8</th>\n",
       "      <th>9</th>\n",
       "      <th>10</th>\n",
       "    </tr>\n",
       "  </thead>\n",
       "  <tbody>\n",
       "    <tr>\n",
       "      <th>0</th>\n",
       "      <td>0</td>\n",
       "      <td>1</td>\n",
       "      <td>0</td>\n",
       "      <td>0</td>\n",
       "      <td>0</td>\n",
       "      <td>0</td>\n",
       "      <td>0</td>\n",
       "      <td>0</td>\n",
       "      <td>0</td>\n",
       "      <td>0</td>\n",
       "    </tr>\n",
       "    <tr>\n",
       "      <th>1</th>\n",
       "      <td>0</td>\n",
       "      <td>0</td>\n",
       "      <td>1</td>\n",
       "      <td>0</td>\n",
       "      <td>0</td>\n",
       "      <td>0</td>\n",
       "      <td>0</td>\n",
       "      <td>0</td>\n",
       "      <td>0</td>\n",
       "      <td>0</td>\n",
       "    </tr>\n",
       "    <tr>\n",
       "      <th>2</th>\n",
       "      <td>1</td>\n",
       "      <td>0</td>\n",
       "      <td>0</td>\n",
       "      <td>0</td>\n",
       "      <td>0</td>\n",
       "      <td>0</td>\n",
       "      <td>0</td>\n",
       "      <td>0</td>\n",
       "      <td>0</td>\n",
       "      <td>0</td>\n",
       "    </tr>\n",
       "    <tr>\n",
       "      <th>3</th>\n",
       "      <td>0</td>\n",
       "      <td>1</td>\n",
       "      <td>0</td>\n",
       "      <td>0</td>\n",
       "      <td>0</td>\n",
       "      <td>0</td>\n",
       "      <td>0</td>\n",
       "      <td>0</td>\n",
       "      <td>0</td>\n",
       "      <td>0</td>\n",
       "    </tr>\n",
       "    <tr>\n",
       "      <th>4</th>\n",
       "      <td>1</td>\n",
       "      <td>0</td>\n",
       "      <td>0</td>\n",
       "      <td>0</td>\n",
       "      <td>0</td>\n",
       "      <td>0</td>\n",
       "      <td>0</td>\n",
       "      <td>0</td>\n",
       "      <td>0</td>\n",
       "      <td>0</td>\n",
       "    </tr>\n",
       "  </tbody>\n",
       "</table>\n",
       "</div>"
      ],
      "text/plain": [
       "   1   2   3   4   5   6   7   8   9   10\n",
       "0   0   1   0   0   0   0   0   0   0   0\n",
       "1   0   0   1   0   0   0   0   0   0   0\n",
       "2   1   0   0   0   0   0   0   0   0   0\n",
       "3   0   1   0   0   0   0   0   0   0   0\n",
       "4   1   0   0   0   0   0   0   0   0   0"
      ]
     },
     "execution_count": 58,
     "metadata": {},
     "output_type": "execute_result"
    }
   ],
   "source": [
    "df_tt.head()"
   ]
  },
  {
   "cell_type": "code",
   "execution_count": 59,
   "metadata": {},
   "outputs": [
    {
     "name": "stdout",
     "output_type": "stream",
     "text": [
      "[[0 1 0 ... 0 0 0]\n",
      " [0 0 1 ... 0 0 0]\n",
      " [1 0 0 ... 0 0 0]\n",
      " ...\n",
      " [0 1 0 ... 0 0 0]\n",
      " [0 0 1 ... 0 0 0]\n",
      " [0 1 0 ... 0 0 0]]\n"
     ]
    }
   ],
   "source": [
    "##y data\n",
    "y_train= np.array([df_tt[1] , df_tt[2] , df_tt[3] , df_tt[4] , df_tt[5] , df_tt[6] , df_tt[7] , df_tt[8] , df_tt[9]  , df_tt[10] ])\n",
    "y_train=y_train.T\n",
    "print (y_train)"
   ]
  },
  {
   "cell_type": "code",
   "execution_count": 60,
   "metadata": {},
   "outputs": [
    {
     "data": {
      "text/plain": [
       "21418"
      ]
     },
     "execution_count": 60,
     "metadata": {},
     "output_type": "execute_result"
    }
   ],
   "source": [
    "len(y_train)"
   ]
  },
  {
   "cell_type": "code",
   "execution_count": 61,
   "metadata": {},
   "outputs": [
    {
     "name": "stdout",
     "output_type": "stream",
     "text": [
      "[[18500]\n",
      " [24995]\n",
      " [10000]\n",
      " ...\n",
      " [18800]\n",
      " [25900]\n",
      " [12450]]\n"
     ]
    }
   ],
   "source": [
    "## actual y\n",
    "y_actual_train= np.array([df_t['price'] ]) \n",
    "y_actual_train=y_actual_train.T\n",
    "print (y_actual_train)"
   ]
  },
  {
   "cell_type": "code",
   "execution_count": 62,
   "metadata": {},
   "outputs": [],
   "source": [
    "##test data\n",
    "X = x_train[87]"
   ]
  },
  {
   "cell_type": "code",
   "execution_count": 63,
   "metadata": {},
   "outputs": [
    {
     "data": {
      "text/plain": [
       "array([   29,    22,    77,     5,     1,     2,     2, 68000])"
      ]
     },
     "execution_count": 63,
     "metadata": {},
     "output_type": "execute_result"
    }
   ],
   "source": [
    "X"
   ]
  },
  {
   "cell_type": "code",
   "execution_count": 64,
   "metadata": {},
   "outputs": [],
   "source": [
    "Y = y_actual_train[87]"
   ]
  },
  {
   "cell_type": "code",
   "execution_count": 65,
   "metadata": {},
   "outputs": [
    {
     "data": {
      "text/plain": [
       "array([9350])"
      ]
     },
     "execution_count": 65,
     "metadata": {},
     "output_type": "execute_result"
    }
   ],
   "source": [
    "Y"
   ]
  },
  {
   "cell_type": "code",
   "execution_count": 66,
   "metadata": {},
   "outputs": [],
   "source": [
    "x_train = x_train.reshape(21418, 8)"
   ]
  },
  {
   "cell_type": "code",
   "execution_count": 67,
   "metadata": {},
   "outputs": [],
   "source": [
    "y_train = y_train.reshape(21418, 10)"
   ]
  },
  {
   "cell_type": "code",
   "execution_count": 68,
   "metadata": {},
   "outputs": [
    {
     "data": {
      "text/plain": [
       "(0.0, 1.0)"
      ]
     },
     "execution_count": 68,
     "metadata": {},
     "output_type": "execute_result"
    }
   ],
   "source": [
    "##normalize\n",
    "x_train = x_train-x_train.min()\n",
    "x_train = x_train/x_train.max()\n",
    "x_train.min(), x_train.max()"
   ]
  },
  {
   "cell_type": "code",
   "execution_count": 69,
   "metadata": {},
   "outputs": [
    {
     "name": "stdout",
     "output_type": "stream",
     "text": [
      "env: KERAS_BACKEND=tensorflow\n"
     ]
    }
   ],
   "source": [
    "from keras.models import Sequential\n",
    "from keras.layers import Dense, Activation\n",
    "from keras.optimizers import SGD\n",
    "from keras.models import Model\n",
    "from keras.layers import Input\n",
    "from keras.layers import concatenate, add\n",
    "%env KERAS_BACKEND=tensorflow"
   ]
  },
  {
   "cell_type": "code",
   "execution_count": 70,
   "metadata": {},
   "outputs": [],
   "source": [
    "f_1 = Dense(20, activation='sigmoid')\n",
    "f_2 = Dense(15, activation='relu')\n",
    "f_3 = Dense(20, activation='sigmoid')\n",
    "f_4 = Dense(15, activation='tanh')\n",
    "f_5 = Dense(10, activation='relu')\n",
    "f_6 = Dense(5, activation='sigmoid')\n",
    "f_7 = Dense(15, activation='tanh')\n",
    "f_8 = Dense(10, activation='relu')\n",
    "f_9 = Dense(10, activation='softmax')\n",
    "\n",
    "x = Input(shape=(8,))\n",
    "\n",
    "h_1 = f_1(x)\n",
    "h_2 = f_2(x)\n",
    "c1 = concatenate([h_1, h_2])\n",
    "h_3 = f_3(c1)\n",
    "h_4 = f_4(h_3)\n",
    "h_5 = f_5(h_3)\n",
    "h_6 = f_6(h_3)\n",
    "c2 = concatenate([h_4, h_5, h_6])\n",
    "h_7=f_7(c2)\n",
    "h_8=f_8(h_7)\n",
    "y = f_9(h_8)"
   ]
  },
  {
   "cell_type": "code",
   "execution_count": 71,
   "metadata": {},
   "outputs": [],
   "source": [
    "model = Model(x, y)"
   ]
  },
  {
   "cell_type": "code",
   "execution_count": 72,
   "metadata": {},
   "outputs": [
    {
     "name": "stdout",
     "output_type": "stream",
     "text": [
      "__________________________________________________________________________________________________\n",
      "Layer (type)                    Output Shape         Param #     Connected to                     \n",
      "==================================================================================================\n",
      "input_6 (InputLayer)            (None, 8)            0                                            \n",
      "__________________________________________________________________________________________________\n",
      "dense_38 (Dense)                (None, 20)           180         input_6[0][0]                    \n",
      "__________________________________________________________________________________________________\n",
      "dense_39 (Dense)                (None, 15)           135         input_6[0][0]                    \n",
      "__________________________________________________________________________________________________\n",
      "concatenate_11 (Concatenate)    (None, 35)           0           dense_38[0][0]                   \n",
      "                                                                 dense_39[0][0]                   \n",
      "__________________________________________________________________________________________________\n",
      "dense_40 (Dense)                (None, 20)           720         concatenate_11[0][0]             \n",
      "__________________________________________________________________________________________________\n",
      "dense_41 (Dense)                (None, 15)           315         dense_40[0][0]                   \n",
      "__________________________________________________________________________________________________\n",
      "dense_42 (Dense)                (None, 10)           210         dense_40[0][0]                   \n",
      "__________________________________________________________________________________________________\n",
      "dense_43 (Dense)                (None, 5)            105         dense_40[0][0]                   \n",
      "__________________________________________________________________________________________________\n",
      "concatenate_12 (Concatenate)    (None, 30)           0           dense_41[0][0]                   \n",
      "                                                                 dense_42[0][0]                   \n",
      "                                                                 dense_43[0][0]                   \n",
      "__________________________________________________________________________________________________\n",
      "dense_44 (Dense)                (None, 15)           465         concatenate_12[0][0]             \n",
      "__________________________________________________________________________________________________\n",
      "dense_45 (Dense)                (None, 10)           160         dense_44[0][0]                   \n",
      "__________________________________________________________________________________________________\n",
      "dense_46 (Dense)                (None, 10)           110         dense_45[0][0]                   \n",
      "==================================================================================================\n",
      "Total params: 2,400\n",
      "Trainable params: 2,400\n",
      "Non-trainable params: 0\n",
      "__________________________________________________________________________________________________\n"
     ]
    }
   ],
   "source": [
    "model.summary()"
   ]
  },
  {
   "cell_type": "code",
   "execution_count": 73,
   "metadata": {},
   "outputs": [
    {
     "name": "stdout",
     "output_type": "stream",
     "text": [
      "Train on 17134 samples, validate on 4284 samples\n",
      "Epoch 1/50\n",
      "17134/17134 [==============================] - 1s 68us/step - loss: 1.5344 - acc: 0.3972 - val_loss: 1.4775 - val_acc: 0.4008\n",
      "Epoch 2/50\n",
      "17134/17134 [==============================] - 0s 17us/step - loss: 1.4791 - acc: 0.4021 - val_loss: 1.4710 - val_acc: 0.4008\n",
      "Epoch 3/50\n",
      "17134/17134 [==============================] - 0s 17us/step - loss: 1.4775 - acc: 0.4022 - val_loss: 1.4693 - val_acc: 0.4008\n",
      "Epoch 4/50\n",
      "17134/17134 [==============================] - 0s 18us/step - loss: 1.4762 - acc: 0.4025 - val_loss: 1.4711 - val_acc: 0.4008\n",
      "Epoch 5/50\n",
      "17134/17134 [==============================] - 0s 17us/step - loss: 1.4754 - acc: 0.4022 - val_loss: 1.4681 - val_acc: 0.4008\n",
      "Epoch 6/50\n",
      "17134/17134 [==============================] - 0s 19us/step - loss: 1.4723 - acc: 0.4022 - val_loss: 1.4734 - val_acc: 0.4008\n",
      "Epoch 7/50\n",
      "17134/17134 [==============================] - 0s 19us/step - loss: 1.4652 - acc: 0.4069 - val_loss: 1.4659 - val_acc: 0.4008\n",
      "Epoch 8/50\n",
      "17134/17134 [==============================] - 0s 21us/step - loss: 1.4450 - acc: 0.4280 - val_loss: 1.4067 - val_acc: 0.4349\n",
      "Epoch 9/50\n",
      "17134/17134 [==============================] - 0s 23us/step - loss: 1.4142 - acc: 0.4414 - val_loss: 1.3760 - val_acc: 0.4482\n",
      "Epoch 10/50\n",
      "17134/17134 [==============================] - 0s 18us/step - loss: 1.3800 - acc: 0.4527 - val_loss: 1.3689 - val_acc: 0.4662\n",
      "Epoch 11/50\n",
      "17134/17134 [==============================] - 0s 23us/step - loss: 1.3698 - acc: 0.4611 - val_loss: 1.4240 - val_acc: 0.4339\n",
      "Epoch 12/50\n",
      "17134/17134 [==============================] - 0s 19us/step - loss: 1.3615 - acc: 0.4595 - val_loss: 1.3509 - val_acc: 0.4601\n",
      "Epoch 13/50\n",
      "17134/17134 [==============================] - 0s 23us/step - loss: 1.3611 - acc: 0.4573 - val_loss: 1.3553 - val_acc: 0.4680\n",
      "Epoch 14/50\n",
      "17134/17134 [==============================] - 0s 21us/step - loss: 1.3594 - acc: 0.4579 - val_loss: 1.3604 - val_acc: 0.4561\n",
      "Epoch 15/50\n",
      "17134/17134 [==============================] - 0s 18us/step - loss: 1.3587 - acc: 0.4600 - val_loss: 1.3578 - val_acc: 0.4685\n",
      "Epoch 16/50\n",
      "17134/17134 [==============================] - 0s 19us/step - loss: 1.3578 - acc: 0.4586 - val_loss: 1.3475 - val_acc: 0.4692\n",
      "Epoch 17/50\n",
      "17134/17134 [==============================] - 0s 20us/step - loss: 1.3566 - acc: 0.4598 - val_loss: 1.3479 - val_acc: 0.4680\n",
      "Epoch 18/50\n",
      "17134/17134 [==============================] - 0s 18us/step - loss: 1.3549 - acc: 0.4632 - val_loss: 1.3554 - val_acc: 0.4482\n",
      "Epoch 19/50\n",
      "17134/17134 [==============================] - 0s 20us/step - loss: 1.3576 - acc: 0.4592 - val_loss: 1.3629 - val_acc: 0.4683\n",
      "Epoch 20/50\n",
      "17134/17134 [==============================] - ETA: 0s - loss: 1.3575 - acc: 0.457 - 0s 21us/step - loss: 1.3547 - acc: 0.4592 - val_loss: 1.3576 - val_acc: 0.4589\n",
      "Epoch 21/50\n",
      "17134/17134 [==============================] - 0s 20us/step - loss: 1.3540 - acc: 0.4619 - val_loss: 1.3456 - val_acc: 0.4685\n",
      "Epoch 22/50\n",
      "17134/17134 [==============================] - 0s 19us/step - loss: 1.3555 - acc: 0.4588 - val_loss: 1.3547 - val_acc: 0.4669\n",
      "Epoch 23/50\n",
      "17134/17134 [==============================] - 0s 18us/step - loss: 1.3539 - acc: 0.4584 - val_loss: 1.3468 - val_acc: 0.4655\n",
      "Epoch 24/50\n",
      "17134/17134 [==============================] - 0s 20us/step - loss: 1.3536 - acc: 0.4597 - val_loss: 1.3578 - val_acc: 0.4538\n",
      "Epoch 25/50\n",
      "17134/17134 [==============================] - 0s 19us/step - loss: 1.3523 - acc: 0.4621 - val_loss: 1.3451 - val_acc: 0.4683\n",
      "Epoch 26/50\n",
      "17134/17134 [==============================] - 0s 20us/step - loss: 1.3516 - acc: 0.4627 - val_loss: 1.3439 - val_acc: 0.4701\n",
      "Epoch 27/50\n",
      "17134/17134 [==============================] - 0s 18us/step - loss: 1.3519 - acc: 0.4625 - val_loss: 1.3813 - val_acc: 0.4552\n",
      "Epoch 28/50\n",
      "17134/17134 [==============================] - 0s 19us/step - loss: 1.3512 - acc: 0.4612 - val_loss: 1.3448 - val_acc: 0.4673\n",
      "Epoch 29/50\n",
      "17134/17134 [==============================] - 0s 19us/step - loss: 1.3516 - acc: 0.4608 - val_loss: 1.3460 - val_acc: 0.4694\n",
      "Epoch 30/50\n",
      "17134/17134 [==============================] - 0s 19us/step - loss: 1.3493 - acc: 0.4618 - val_loss: 1.3496 - val_acc: 0.4589\n",
      "Epoch 31/50\n",
      "17134/17134 [==============================] - 0s 19us/step - loss: 1.3505 - acc: 0.4639 - val_loss: 1.3458 - val_acc: 0.4678\n",
      "Epoch 32/50\n",
      "17134/17134 [==============================] - 0s 19us/step - loss: 1.3504 - acc: 0.4607 - val_loss: 1.3474 - val_acc: 0.4601\n",
      "Epoch 33/50\n",
      "17134/17134 [==============================] - 0s 18us/step - loss: 1.3511 - acc: 0.4618 - val_loss: 1.3438 - val_acc: 0.4701\n",
      "Epoch 34/50\n",
      "17134/17134 [==============================] - 0s 19us/step - loss: 1.3521 - acc: 0.4619 - val_loss: 1.3862 - val_acc: 0.4521\n",
      "Epoch 35/50\n",
      "17134/17134 [==============================] - 0s 19us/step - loss: 1.3505 - acc: 0.4598 - val_loss: 1.3491 - val_acc: 0.4683\n",
      "Epoch 36/50\n",
      "17134/17134 [==============================] - 0s 18us/step - loss: 1.3508 - acc: 0.4610 - val_loss: 1.3442 - val_acc: 0.4676\n",
      "Epoch 37/50\n",
      "17134/17134 [==============================] - 0s 18us/step - loss: 1.3497 - acc: 0.4613 - val_loss: 1.3448 - val_acc: 0.4638\n",
      "Epoch 38/50\n",
      "17134/17134 [==============================] - 0s 18us/step - loss: 1.3488 - acc: 0.4639 - val_loss: 1.3918 - val_acc: 0.4512\n",
      "Epoch 39/50\n",
      "17134/17134 [==============================] - 0s 19us/step - loss: 1.3500 - acc: 0.4623 - val_loss: 1.3441 - val_acc: 0.4673\n",
      "Epoch 40/50\n",
      "17134/17134 [==============================] - 0s 20us/step - loss: 1.3496 - acc: 0.4622 - val_loss: 1.3440 - val_acc: 0.4678\n",
      "Epoch 41/50\n",
      "17134/17134 [==============================] - 0s 26us/step - loss: 1.3487 - acc: 0.4605 - val_loss: 1.3605 - val_acc: 0.4694\n",
      "Epoch 42/50\n",
      "17134/17134 [==============================] - 0s 21us/step - loss: 1.3492 - acc: 0.4610 - val_loss: 1.3444 - val_acc: 0.4685\n",
      "Epoch 43/50\n",
      "17134/17134 [==============================] - 0s 19us/step - loss: 1.3492 - acc: 0.4630 - val_loss: 1.3616 - val_acc: 0.4451\n",
      "Epoch 44/50\n",
      "17134/17134 [==============================] - 0s 18us/step - loss: 1.3496 - acc: 0.4607 - val_loss: 1.3497 - val_acc: 0.4671\n",
      "Epoch 45/50\n",
      "17134/17134 [==============================] - 0s 20us/step - loss: 1.3493 - acc: 0.4620 - val_loss: 1.3468 - val_acc: 0.4697\n",
      "Epoch 46/50\n",
      "17134/17134 [==============================] - 0s 18us/step - loss: 1.3493 - acc: 0.4627 - val_loss: 1.3525 - val_acc: 0.4678\n",
      "Epoch 47/50\n",
      "17134/17134 [==============================] - 0s 17us/step - loss: 1.3489 - acc: 0.4624 - val_loss: 1.3621 - val_acc: 0.4678\n",
      "Epoch 48/50\n",
      "17134/17134 [==============================] - 0s 18us/step - loss: 1.3493 - acc: 0.4621 - val_loss: 1.3514 - val_acc: 0.4697\n",
      "Epoch 49/50\n",
      "17134/17134 [==============================] - 0s 18us/step - loss: 1.3495 - acc: 0.4607 - val_loss: 1.3482 - val_acc: 0.4650\n",
      "Epoch 50/50\n",
      "17134/17134 [==============================] - 0s 19us/step - loss: 1.3488 - acc: 0.4617 - val_loss: 1.3488 - val_acc: 0.4648\n"
     ]
    },
    {
     "data": {
      "text/plain": [
       "<keras.callbacks.History at 0xb29cf7278>"
      ]
     },
     "execution_count": 73,
     "metadata": {},
     "output_type": "execute_result"
    }
   ],
   "source": [
    "model.compile(loss='categorical_crossentropy', optimizer=SGD(lr=0.08), metrics=['accuracy'])\n",
    "model.fit(x_train, y_train, batch_size=100, epochs=50, verbose=1, validation_split=0.2 )"
   ]
  },
  {
   "cell_type": "markdown",
   "metadata": {},
   "source": [
    "<br>\n",
    "<font face=\"黑体\"> Conclusion\n",
    "    \n",
    "1/ the accuracy of training machine~46%<br>\n",
    "2/the accuracy of test~46%<br>"
   ]
  },
  {
   "cell_type": "code",
   "execution_count": null,
   "metadata": {},
   "outputs": [],
   "source": []
  }
 ],
 "metadata": {
  "kernelspec": {
   "display_name": "Python 3",
   "language": "python",
   "name": "python3"
  },
  "language_info": {
   "codemirror_mode": {
    "name": "ipython",
    "version": 3
   },
   "file_extension": ".py",
   "mimetype": "text/x-python",
   "name": "python",
   "nbconvert_exporter": "python",
   "pygments_lexer": "ipython3",
   "version": "3.6.5"
  }
 },
 "nbformat": 4,
 "nbformat_minor": 2
}
