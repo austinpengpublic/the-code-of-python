{
 "cells": [
  {
   "cell_type": "code",
   "execution_count": 1,
   "metadata": {},
   "outputs": [
    {
     "name": "stdout",
     "output_type": "stream",
     "text": [
      "                    control your power\n"
     ]
    },
    {
     "data": {
      "application/vnd.jupyter.widget-view+json": {
       "model_id": "c1b834fab1fa440d9e90be4ce42045b8",
       "version_major": 2,
       "version_minor": 0
      },
      "text/plain": [
       "interactive(children=(FloatSlider(value=7.0, description='x', max=1000000.0, min=1.0), Output()), _dom_classes…"
      ]
     },
     "metadata": {},
     "output_type": "display_data"
    }
   ],
   "source": [
    "% matplotlib inline\n",
    "import numpy as np \n",
    "from matplotlib.patches import Ellipse, Circle\n",
    "import matplotlib.pyplot as plt\n",
    "from ipywidgets import interact\n",
    "\n",
    "print (\" \"*20+\"control your power\")\n",
    "\n",
    "## control the power of sword\n",
    "def sword(x=7.):\n",
    "    \n",
    "    if (x%7==0):\n",
    "        print (\" \"*20+\"Crack the Horcrux\")\n",
    "        #The Resurrection Stone \n",
    "        fig = plt.figure()\n",
    "        ax = fig.add_subplot(111)\n",
    "        c1=Circle(xy=(0, 0.0), radius=5, color=\"white\",fill=False)\n",
    "        c2=Circle(xy=(0, 0.5), radius=2, color=\"black\",fill=False)\n",
    "        ax.add_patch(c1)\n",
    "        ax.add_patch(c2)\n",
    "        plt.axis('scaled')\n",
    "        \n",
    "        #The Cloak of Invisibility\n",
    "        x1=[-4.5,0]\n",
    "        y1=[-2,5]\n",
    "        plt.plot(x1,y1,color=\"black\")\n",
    "        \n",
    "        x2=[-4.5,4.5]\n",
    "        y2=[-2,-2]\n",
    "        plt.plot(x2,y2,color=\"black\")\n",
    "        \n",
    "        x3=[0,4.5]\n",
    "        y3=[5,-2]\n",
    "        plt.plot(x3,y3,color=\"black\")\n",
    "        \n",
    "        #The Elder Wand \n",
    "        x4=[0,0]\n",
    "        y4=[-2,5]\n",
    "        plt.plot(x4,y4,color=\"red\")\n",
    "\n",
    "\n",
    "    else:\n",
    "        print (\" \"*20+\"Still working\") \n",
    "        \n",
    "    return x\n",
    "\n",
    "\n",
    "\n",
    "interact(sword, x=(1.,1000000.));"
   ]
  },
  {
   "cell_type": "code",
   "execution_count": null,
   "metadata": {},
   "outputs": [],
   "source": []
  }
 ],
 "metadata": {
  "kernelspec": {
   "display_name": "Python 3",
   "language": "python",
   "name": "python3"
  },
  "language_info": {
   "codemirror_mode": {
    "name": "ipython",
    "version": 3
   },
   "file_extension": ".py",
   "mimetype": "text/x-python",
   "name": "python",
   "nbconvert_exporter": "python",
   "pygments_lexer": "ipython3",
   "version": "3.6.5"
  }
 },
 "nbformat": 4,
 "nbformat_minor": 2
}
