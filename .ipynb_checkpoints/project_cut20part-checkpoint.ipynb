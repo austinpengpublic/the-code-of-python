{
 "cells": [
  {
   "cell_type": "markdown",
   "metadata": {},
   "source": [
    "<br>\n",
    "<font face=\"黑体\"> Version of 20 interval of y  (unit: 5000dollars/ num of data:20000)"
   ]
  },
  {
   "cell_type": "code",
   "execution_count": 485,
   "metadata": {},
   "outputs": [],
   "source": [
    "%matplotlib inline\n",
    "\n",
    "import matplotlib.pyplot as plt\n",
    "import numpy as np\n",
    "import pandas as pd \n",
    "\n",
    "from keras.models import Sequential\n",
    "from keras.layers import Dense, Activation\n",
    "from keras.optimizers import SGD\n",
    "\n",
    "from keras.datasets import mnist\n",
    "\n",
    "from keras.utils import np_utils\n",
    "\n",
    "df = pd.read_excel('raw_used_car_data.xlsx')"
   ]
  },
  {
   "cell_type": "code",
   "execution_count": 486,
   "metadata": {},
   "outputs": [
    {
     "data": {
      "text/html": [
       "<div>\n",
       "<style scoped>\n",
       "    .dataframe tbody tr th:only-of-type {\n",
       "        vertical-align: middle;\n",
       "    }\n",
       "\n",
       "    .dataframe tbody tr th {\n",
       "        vertical-align: top;\n",
       "    }\n",
       "\n",
       "    .dataframe thead th {\n",
       "        text-align: right;\n",
       "    }\n",
       "</style>\n",
       "<table border=\"1\" class=\"dataframe\">\n",
       "  <thead>\n",
       "    <tr style=\"text-align: right;\">\n",
       "      <th></th>\n",
       "      <th>ID</th>\n",
       "      <th>make</th>\n",
       "      <th>model</th>\n",
       "      <th>months_old</th>\n",
       "      <th>power</th>\n",
       "      <th>sale_type</th>\n",
       "      <th>num_owners</th>\n",
       "      <th>gear_type</th>\n",
       "      <th>fuel_type</th>\n",
       "      <th>kms</th>\n",
       "      <th>price</th>\n",
       "    </tr>\n",
       "  </thead>\n",
       "  <tbody>\n",
       "    <tr>\n",
       "      <th>0</th>\n",
       "      <td>97860</td>\n",
       "      <td>Porsche</td>\n",
       "      <td>911</td>\n",
       "      <td>240.0</td>\n",
       "      <td>210.0</td>\n",
       "      <td>classic</td>\n",
       "      <td>3.0</td>\n",
       "      <td>manual</td>\n",
       "      <td>gasoline</td>\n",
       "      <td>202000.0</td>\n",
       "      <td>999999.0</td>\n",
       "    </tr>\n",
       "    <tr>\n",
       "      <th>1</th>\n",
       "      <td>27821</td>\n",
       "      <td>Ford</td>\n",
       "      <td>Mustang</td>\n",
       "      <td>54.0</td>\n",
       "      <td>487.0</td>\n",
       "      <td>used</td>\n",
       "      <td>1.0</td>\n",
       "      <td>manual</td>\n",
       "      <td>gasoline</td>\n",
       "      <td>30000.0</td>\n",
       "      <td>685000.0</td>\n",
       "    </tr>\n",
       "    <tr>\n",
       "      <th>2</th>\n",
       "      <td>97801</td>\n",
       "      <td>Porsche</td>\n",
       "      <td>911</td>\n",
       "      <td>358.0</td>\n",
       "      <td>220.0</td>\n",
       "      <td>used</td>\n",
       "      <td>NaN</td>\n",
       "      <td>manual</td>\n",
       "      <td>gasoline</td>\n",
       "      <td>56300.0</td>\n",
       "      <td>555555.0</td>\n",
       "    </tr>\n",
       "    <tr>\n",
       "      <th>3</th>\n",
       "      <td>98251</td>\n",
       "      <td>Porsche</td>\n",
       "      <td>911</td>\n",
       "      <td>14.0</td>\n",
       "      <td>368.0</td>\n",
       "      <td>used</td>\n",
       "      <td>1.0</td>\n",
       "      <td>manual</td>\n",
       "      <td>gasoline</td>\n",
       "      <td>2800.0</td>\n",
       "      <td>470000.0</td>\n",
       "    </tr>\n",
       "    <tr>\n",
       "      <th>4</th>\n",
       "      <td>98250</td>\n",
       "      <td>Porsche</td>\n",
       "      <td>911</td>\n",
       "      <td>3.0</td>\n",
       "      <td>515.0</td>\n",
       "      <td>used</td>\n",
       "      <td>NaN</td>\n",
       "      <td>NaN</td>\n",
       "      <td>gasoline</td>\n",
       "      <td>10.0</td>\n",
       "      <td>450000.0</td>\n",
       "    </tr>\n",
       "  </tbody>\n",
       "</table>\n",
       "</div>"
      ],
      "text/plain": [
       "      ID     make    model  months_old  power sale_type  num_owners gear_type  \\\n",
       "0  97860  Porsche      911       240.0  210.0   classic         3.0    manual   \n",
       "1  27821     Ford  Mustang        54.0  487.0      used         1.0    manual   \n",
       "2  97801  Porsche      911       358.0  220.0      used         NaN    manual   \n",
       "3  98251  Porsche      911        14.0  368.0      used         1.0    manual   \n",
       "4  98250  Porsche      911         3.0  515.0      used         NaN       NaN   \n",
       "\n",
       "  fuel_type       kms     price  \n",
       "0  gasoline  202000.0  999999.0  \n",
       "1  gasoline   30000.0  685000.0  \n",
       "2  gasoline   56300.0  555555.0  \n",
       "3  gasoline    2800.0  470000.0  \n",
       "4  gasoline      10.0  450000.0  "
      ]
     },
     "execution_count": 486,
     "metadata": {},
     "output_type": "execute_result"
    }
   ],
   "source": [
    "df.head()"
   ]
  },
  {
   "cell_type": "code",
   "execution_count": 487,
   "metadata": {},
   "outputs": [],
   "source": [
    "##nurmeric\n",
    "df_t = pd.read_excel('training_x.xlsx')"
   ]
  },
  {
   "cell_type": "code",
   "execution_count": 488,
   "metadata": {},
   "outputs": [
    {
     "data": {
      "text/html": [
       "<div>\n",
       "<style scoped>\n",
       "    .dataframe tbody tr th:only-of-type {\n",
       "        vertical-align: middle;\n",
       "    }\n",
       "\n",
       "    .dataframe tbody tr th {\n",
       "        vertical-align: top;\n",
       "    }\n",
       "\n",
       "    .dataframe thead th {\n",
       "        text-align: right;\n",
       "    }\n",
       "</style>\n",
       "<table border=\"1\" class=\"dataframe\">\n",
       "  <thead>\n",
       "    <tr style=\"text-align: right;\">\n",
       "      <th></th>\n",
       "      <th>ID</th>\n",
       "      <th>make</th>\n",
       "      <th>months_old</th>\n",
       "      <th>power</th>\n",
       "      <th>sale_type</th>\n",
       "      <th>num_owners</th>\n",
       "      <th>gear_type</th>\n",
       "      <th>fuel_type</th>\n",
       "      <th>kms</th>\n",
       "      <th>price</th>\n",
       "    </tr>\n",
       "  </thead>\n",
       "  <tbody>\n",
       "    <tr>\n",
       "      <th>0</th>\n",
       "      <td>39508</td>\n",
       "      <td>24</td>\n",
       "      <td>13</td>\n",
       "      <td>92</td>\n",
       "      <td>5</td>\n",
       "      <td>1</td>\n",
       "      <td>2</td>\n",
       "      <td>5</td>\n",
       "      <td>11104</td>\n",
       "      <td>14295</td>\n",
       "    </tr>\n",
       "    <tr>\n",
       "      <th>1</th>\n",
       "      <td>71262</td>\n",
       "      <td>10</td>\n",
       "      <td>121</td>\n",
       "      <td>51</td>\n",
       "      <td>5</td>\n",
       "      <td>2</td>\n",
       "      <td>2</td>\n",
       "      <td>5</td>\n",
       "      <td>90000</td>\n",
       "      <td>5500</td>\n",
       "    </tr>\n",
       "    <tr>\n",
       "      <th>2</th>\n",
       "      <td>11149</td>\n",
       "      <td>4</td>\n",
       "      <td>14</td>\n",
       "      <td>85</td>\n",
       "      <td>5</td>\n",
       "      <td>1</td>\n",
       "      <td>2</td>\n",
       "      <td>2</td>\n",
       "      <td>18719</td>\n",
       "      <td>22900</td>\n",
       "    </tr>\n",
       "    <tr>\n",
       "      <th>3</th>\n",
       "      <td>56224</td>\n",
       "      <td>35</td>\n",
       "      <td>52</td>\n",
       "      <td>103</td>\n",
       "      <td>5</td>\n",
       "      <td>1</td>\n",
       "      <td>1</td>\n",
       "      <td>2</td>\n",
       "      <td>109000</td>\n",
       "      <td>14990</td>\n",
       "    </tr>\n",
       "    <tr>\n",
       "      <th>4</th>\n",
       "      <td>73615</td>\n",
       "      <td>10</td>\n",
       "      <td>121</td>\n",
       "      <td>44</td>\n",
       "      <td>5</td>\n",
       "      <td>1</td>\n",
       "      <td>2</td>\n",
       "      <td>5</td>\n",
       "      <td>66371</td>\n",
       "      <td>3900</td>\n",
       "    </tr>\n",
       "  </tbody>\n",
       "</table>\n",
       "</div>"
      ],
      "text/plain": [
       "      ID  make  months_old  power  sale_type  num_owners  gear_type  \\\n",
       "0  39508    24          13     92          5           1          2   \n",
       "1  71262    10         121     51          5           2          2   \n",
       "2  11149     4          14     85          5           1          2   \n",
       "3  56224    35          52    103          5           1          1   \n",
       "4  73615    10         121     44          5           1          2   \n",
       "\n",
       "   fuel_type     kms  price  \n",
       "0          5   11104  14295  \n",
       "1          5   90000   5500  \n",
       "2          2   18719  22900  \n",
       "3          2  109000  14990  \n",
       "4          5   66371   3900  "
      ]
     },
     "execution_count": 488,
     "metadata": {},
     "output_type": "execute_result"
    }
   ],
   "source": [
    "df_t.head()"
   ]
  },
  {
   "cell_type": "code",
   "execution_count": 489,
   "metadata": {},
   "outputs": [
    {
     "name": "stdout",
     "output_type": "stream",
     "text": [
      "[[    24     13     92 ...      2      5  11104]\n",
      " [    10    121     51 ...      2      5  90000]\n",
      " [     4     14     85 ...      2      2  18719]\n",
      " ...\n",
      " [     8     79     81 ...      2      2 198000]\n",
      " [    27      8     96 ...      2      2      1]\n",
      " [    24      4    100 ...      2      2   1510]]\n"
     ]
    }
   ],
   "source": [
    "##x data\n",
    "x_train= np.array([df_t['make'] , df_t['months_old'] , df_t['power'] , df_t['sale_type'] , df_t['num_owners'] ,  df_t['gear_type'] , \n",
    "            df_t['fuel_type'] , df_t['kms']]) \n",
    "x_train=x_train.T\n",
    "print (x_train)"
   ]
  },
  {
   "cell_type": "code",
   "execution_count": 490,
   "metadata": {},
   "outputs": [
    {
     "data": {
      "text/plain": [
       "19998"
      ]
     },
     "execution_count": 490,
     "metadata": {},
     "output_type": "execute_result"
    }
   ],
   "source": [
    "len(x_train)"
   ]
  },
  {
   "cell_type": "code",
   "execution_count": 491,
   "metadata": {},
   "outputs": [
    {
     "data": {
      "text/html": [
       "<div>\n",
       "<style scoped>\n",
       "    .dataframe tbody tr th:only-of-type {\n",
       "        vertical-align: middle;\n",
       "    }\n",
       "\n",
       "    .dataframe tbody tr th {\n",
       "        vertical-align: top;\n",
       "    }\n",
       "\n",
       "    .dataframe thead th {\n",
       "        text-align: right;\n",
       "    }\n",
       "</style>\n",
       "<table border=\"1\" class=\"dataframe\">\n",
       "  <thead>\n",
       "    <tr style=\"text-align: right;\">\n",
       "      <th></th>\n",
       "      <th>ID</th>\n",
       "      <th>make</th>\n",
       "      <th>months_old</th>\n",
       "      <th>power</th>\n",
       "      <th>sale_type</th>\n",
       "      <th>num_owners</th>\n",
       "      <th>gear_type</th>\n",
       "      <th>fuel_type</th>\n",
       "      <th>kms</th>\n",
       "      <th>price</th>\n",
       "    </tr>\n",
       "  </thead>\n",
       "  <tbody>\n",
       "    <tr>\n",
       "      <th>ID</th>\n",
       "      <td>1.000000</td>\n",
       "      <td>0.670539</td>\n",
       "      <td>0.088192</td>\n",
       "      <td>-0.159060</td>\n",
       "      <td>0.004873</td>\n",
       "      <td>0.012924</td>\n",
       "      <td>0.216064</td>\n",
       "      <td>0.181527</td>\n",
       "      <td>0.045880</td>\n",
       "      <td>-0.126523</td>\n",
       "    </tr>\n",
       "    <tr>\n",
       "      <th>make</th>\n",
       "      <td>0.670539</td>\n",
       "      <td>1.000000</td>\n",
       "      <td>0.091071</td>\n",
       "      <td>-0.212742</td>\n",
       "      <td>0.032343</td>\n",
       "      <td>0.011883</td>\n",
       "      <td>0.228619</td>\n",
       "      <td>0.123525</td>\n",
       "      <td>0.077667</td>\n",
       "      <td>-0.182194</td>\n",
       "    </tr>\n",
       "    <tr>\n",
       "      <th>months_old</th>\n",
       "      <td>0.088192</td>\n",
       "      <td>0.091071</td>\n",
       "      <td>1.000000</td>\n",
       "      <td>0.039280</td>\n",
       "      <td>0.161721</td>\n",
       "      <td>0.258894</td>\n",
       "      <td>0.070792</td>\n",
       "      <td>0.102184</td>\n",
       "      <td>0.756328</td>\n",
       "      <td>-0.292732</td>\n",
       "    </tr>\n",
       "    <tr>\n",
       "      <th>power</th>\n",
       "      <td>-0.159060</td>\n",
       "      <td>-0.212742</td>\n",
       "      <td>0.039280</td>\n",
       "      <td>1.000000</td>\n",
       "      <td>0.012678</td>\n",
       "      <td>0.087850</td>\n",
       "      <td>-0.524019</td>\n",
       "      <td>0.041955</td>\n",
       "      <td>0.038164</td>\n",
       "      <td>0.659406</td>\n",
       "    </tr>\n",
       "    <tr>\n",
       "      <th>sale_type</th>\n",
       "      <td>0.004873</td>\n",
       "      <td>0.032343</td>\n",
       "      <td>0.161721</td>\n",
       "      <td>0.012678</td>\n",
       "      <td>1.000000</td>\n",
       "      <td>0.029887</td>\n",
       "      <td>0.016469</td>\n",
       "      <td>0.009106</td>\n",
       "      <td>0.160117</td>\n",
       "      <td>-0.087729</td>\n",
       "    </tr>\n",
       "    <tr>\n",
       "      <th>num_owners</th>\n",
       "      <td>0.012924</td>\n",
       "      <td>0.011883</td>\n",
       "      <td>0.258894</td>\n",
       "      <td>0.087850</td>\n",
       "      <td>0.029887</td>\n",
       "      <td>1.000000</td>\n",
       "      <td>-0.031207</td>\n",
       "      <td>0.054908</td>\n",
       "      <td>0.187247</td>\n",
       "      <td>-0.002955</td>\n",
       "    </tr>\n",
       "    <tr>\n",
       "      <th>gear_type</th>\n",
       "      <td>0.216064</td>\n",
       "      <td>0.228619</td>\n",
       "      <td>0.070792</td>\n",
       "      <td>-0.524019</td>\n",
       "      <td>0.016469</td>\n",
       "      <td>-0.031207</td>\n",
       "      <td>1.000000</td>\n",
       "      <td>0.063857</td>\n",
       "      <td>0.040585</td>\n",
       "      <td>-0.410623</td>\n",
       "    </tr>\n",
       "    <tr>\n",
       "      <th>fuel_type</th>\n",
       "      <td>0.181527</td>\n",
       "      <td>0.123525</td>\n",
       "      <td>0.102184</td>\n",
       "      <td>0.041955</td>\n",
       "      <td>0.009106</td>\n",
       "      <td>0.054908</td>\n",
       "      <td>0.063857</td>\n",
       "      <td>1.000000</td>\n",
       "      <td>-0.104611</td>\n",
       "      <td>-0.019004</td>\n",
       "    </tr>\n",
       "    <tr>\n",
       "      <th>kms</th>\n",
       "      <td>0.045880</td>\n",
       "      <td>0.077667</td>\n",
       "      <td>0.756328</td>\n",
       "      <td>0.038164</td>\n",
       "      <td>0.160117</td>\n",
       "      <td>0.187247</td>\n",
       "      <td>0.040585</td>\n",
       "      <td>-0.104611</td>\n",
       "      <td>1.000000</td>\n",
       "      <td>-0.302651</td>\n",
       "    </tr>\n",
       "    <tr>\n",
       "      <th>price</th>\n",
       "      <td>-0.126523</td>\n",
       "      <td>-0.182194</td>\n",
       "      <td>-0.292732</td>\n",
       "      <td>0.659406</td>\n",
       "      <td>-0.087729</td>\n",
       "      <td>-0.002955</td>\n",
       "      <td>-0.410623</td>\n",
       "      <td>-0.019004</td>\n",
       "      <td>-0.302651</td>\n",
       "      <td>1.000000</td>\n",
       "    </tr>\n",
       "  </tbody>\n",
       "</table>\n",
       "</div>"
      ],
      "text/plain": [
       "                  ID      make  months_old     power  sale_type  num_owners  \\\n",
       "ID          1.000000  0.670539    0.088192 -0.159060   0.004873    0.012924   \n",
       "make        0.670539  1.000000    0.091071 -0.212742   0.032343    0.011883   \n",
       "months_old  0.088192  0.091071    1.000000  0.039280   0.161721    0.258894   \n",
       "power      -0.159060 -0.212742    0.039280  1.000000   0.012678    0.087850   \n",
       "sale_type   0.004873  0.032343    0.161721  0.012678   1.000000    0.029887   \n",
       "num_owners  0.012924  0.011883    0.258894  0.087850   0.029887    1.000000   \n",
       "gear_type   0.216064  0.228619    0.070792 -0.524019   0.016469   -0.031207   \n",
       "fuel_type   0.181527  0.123525    0.102184  0.041955   0.009106    0.054908   \n",
       "kms         0.045880  0.077667    0.756328  0.038164   0.160117    0.187247   \n",
       "price      -0.126523 -0.182194   -0.292732  0.659406  -0.087729   -0.002955   \n",
       "\n",
       "            gear_type  fuel_type       kms     price  \n",
       "ID           0.216064   0.181527  0.045880 -0.126523  \n",
       "make         0.228619   0.123525  0.077667 -0.182194  \n",
       "months_old   0.070792   0.102184  0.756328 -0.292732  \n",
       "power       -0.524019   0.041955  0.038164  0.659406  \n",
       "sale_type    0.016469   0.009106  0.160117 -0.087729  \n",
       "num_owners  -0.031207   0.054908  0.187247 -0.002955  \n",
       "gear_type    1.000000   0.063857  0.040585 -0.410623  \n",
       "fuel_type    0.063857   1.000000 -0.104611 -0.019004  \n",
       "kms          0.040585  -0.104611  1.000000 -0.302651  \n",
       "price       -0.410623  -0.019004 -0.302651  1.000000  "
      ]
     },
     "execution_count": 491,
     "metadata": {},
     "output_type": "execute_result"
    }
   ],
   "source": [
    "df_t.corr()"
   ]
  },
  {
   "cell_type": "code",
   "execution_count": 492,
   "metadata": {},
   "outputs": [],
   "source": [
    "## put y in [1*20]\n",
    "df_tt = pd.read_excel('training_y.xlsx')"
   ]
  },
  {
   "cell_type": "code",
   "execution_count": 493,
   "metadata": {},
   "outputs": [
    {
     "data": {
      "text/html": [
       "<div>\n",
       "<style scoped>\n",
       "    .dataframe tbody tr th:only-of-type {\n",
       "        vertical-align: middle;\n",
       "    }\n",
       "\n",
       "    .dataframe tbody tr th {\n",
       "        vertical-align: top;\n",
       "    }\n",
       "\n",
       "    .dataframe thead th {\n",
       "        text-align: right;\n",
       "    }\n",
       "</style>\n",
       "<table border=\"1\" class=\"dataframe\">\n",
       "  <thead>\n",
       "    <tr style=\"text-align: right;\">\n",
       "      <th></th>\n",
       "      <th>1</th>\n",
       "      <th>2</th>\n",
       "      <th>3</th>\n",
       "      <th>4</th>\n",
       "      <th>5</th>\n",
       "      <th>6</th>\n",
       "      <th>7</th>\n",
       "      <th>8</th>\n",
       "      <th>9</th>\n",
       "      <th>10</th>\n",
       "      <th>11</th>\n",
       "      <th>12</th>\n",
       "      <th>13</th>\n",
       "      <th>14</th>\n",
       "      <th>15</th>\n",
       "      <th>16</th>\n",
       "      <th>17</th>\n",
       "      <th>18</th>\n",
       "      <th>19</th>\n",
       "      <th>20</th>\n",
       "    </tr>\n",
       "  </thead>\n",
       "  <tbody>\n",
       "    <tr>\n",
       "      <th>0</th>\n",
       "      <td>0</td>\n",
       "      <td>0</td>\n",
       "      <td>1</td>\n",
       "      <td>0</td>\n",
       "      <td>0</td>\n",
       "      <td>0</td>\n",
       "      <td>0</td>\n",
       "      <td>0</td>\n",
       "      <td>0</td>\n",
       "      <td>0</td>\n",
       "      <td>0</td>\n",
       "      <td>0</td>\n",
       "      <td>0</td>\n",
       "      <td>0</td>\n",
       "      <td>0</td>\n",
       "      <td>0</td>\n",
       "      <td>0</td>\n",
       "      <td>0</td>\n",
       "      <td>0</td>\n",
       "      <td>0</td>\n",
       "    </tr>\n",
       "    <tr>\n",
       "      <th>1</th>\n",
       "      <td>0</td>\n",
       "      <td>1</td>\n",
       "      <td>0</td>\n",
       "      <td>0</td>\n",
       "      <td>0</td>\n",
       "      <td>0</td>\n",
       "      <td>0</td>\n",
       "      <td>0</td>\n",
       "      <td>0</td>\n",
       "      <td>0</td>\n",
       "      <td>0</td>\n",
       "      <td>0</td>\n",
       "      <td>0</td>\n",
       "      <td>0</td>\n",
       "      <td>0</td>\n",
       "      <td>0</td>\n",
       "      <td>0</td>\n",
       "      <td>0</td>\n",
       "      <td>0</td>\n",
       "      <td>0</td>\n",
       "    </tr>\n",
       "    <tr>\n",
       "      <th>2</th>\n",
       "      <td>0</td>\n",
       "      <td>0</td>\n",
       "      <td>0</td>\n",
       "      <td>0</td>\n",
       "      <td>1</td>\n",
       "      <td>0</td>\n",
       "      <td>0</td>\n",
       "      <td>0</td>\n",
       "      <td>0</td>\n",
       "      <td>0</td>\n",
       "      <td>0</td>\n",
       "      <td>0</td>\n",
       "      <td>0</td>\n",
       "      <td>0</td>\n",
       "      <td>0</td>\n",
       "      <td>0</td>\n",
       "      <td>0</td>\n",
       "      <td>0</td>\n",
       "      <td>0</td>\n",
       "      <td>0</td>\n",
       "    </tr>\n",
       "    <tr>\n",
       "      <th>3</th>\n",
       "      <td>0</td>\n",
       "      <td>0</td>\n",
       "      <td>1</td>\n",
       "      <td>0</td>\n",
       "      <td>0</td>\n",
       "      <td>0</td>\n",
       "      <td>0</td>\n",
       "      <td>0</td>\n",
       "      <td>0</td>\n",
       "      <td>0</td>\n",
       "      <td>0</td>\n",
       "      <td>0</td>\n",
       "      <td>0</td>\n",
       "      <td>0</td>\n",
       "      <td>0</td>\n",
       "      <td>0</td>\n",
       "      <td>0</td>\n",
       "      <td>0</td>\n",
       "      <td>0</td>\n",
       "      <td>0</td>\n",
       "    </tr>\n",
       "    <tr>\n",
       "      <th>4</th>\n",
       "      <td>1</td>\n",
       "      <td>0</td>\n",
       "      <td>0</td>\n",
       "      <td>0</td>\n",
       "      <td>0</td>\n",
       "      <td>0</td>\n",
       "      <td>0</td>\n",
       "      <td>0</td>\n",
       "      <td>0</td>\n",
       "      <td>0</td>\n",
       "      <td>0</td>\n",
       "      <td>0</td>\n",
       "      <td>0</td>\n",
       "      <td>0</td>\n",
       "      <td>0</td>\n",
       "      <td>0</td>\n",
       "      <td>0</td>\n",
       "      <td>0</td>\n",
       "      <td>0</td>\n",
       "      <td>0</td>\n",
       "    </tr>\n",
       "  </tbody>\n",
       "</table>\n",
       "</div>"
      ],
      "text/plain": [
       "   1   2   3   4   5   6   7   8   9   10  11  12  13  14  15  16  17  18  19  \\\n",
       "0   0   0   1   0   0   0   0   0   0   0   0   0   0   0   0   0   0   0   0   \n",
       "1   0   1   0   0   0   0   0   0   0   0   0   0   0   0   0   0   0   0   0   \n",
       "2   0   0   0   0   1   0   0   0   0   0   0   0   0   0   0   0   0   0   0   \n",
       "3   0   0   1   0   0   0   0   0   0   0   0   0   0   0   0   0   0   0   0   \n",
       "4   1   0   0   0   0   0   0   0   0   0   0   0   0   0   0   0   0   0   0   \n",
       "\n",
       "   20  \n",
       "0   0  \n",
       "1   0  \n",
       "2   0  \n",
       "3   0  \n",
       "4   0  "
      ]
     },
     "execution_count": 493,
     "metadata": {},
     "output_type": "execute_result"
    }
   ],
   "source": [
    "df_tt.head()"
   ]
  },
  {
   "cell_type": "code",
   "execution_count": 494,
   "metadata": {},
   "outputs": [
    {
     "name": "stdout",
     "output_type": "stream",
     "text": [
      "[[0 0 1 ... 0 0 0]\n",
      " [0 1 0 ... 0 0 0]\n",
      " [0 0 0 ... 0 0 0]\n",
      " ...\n",
      " [0 1 0 ... 0 0 0]\n",
      " [0 0 0 ... 0 0 0]\n",
      " [0 0 0 ... 0 0 0]]\n"
     ]
    }
   ],
   "source": [
    "##y data\n",
    "y_train= np.array([df_tt[1] , df_tt[2] , df_tt[3] , df_tt[4] , df_tt[5] , df_tt[6] , df_tt[7] , df_tt[8] , df_tt[9]  , df_tt[10] \n",
    "             , df_tt[11] , df_tt[12] , df_tt[13] , df_tt[14] , df_tt[15] , df_tt[16] , df_tt[17] , df_tt[18]  , df_tt[19] , df_tt[20]])\n",
    "y_train=y_train.T\n",
    "print (y_train)"
   ]
  },
  {
   "cell_type": "code",
   "execution_count": 495,
   "metadata": {},
   "outputs": [
    {
     "data": {
      "text/plain": [
       "19998"
      ]
     },
     "execution_count": 495,
     "metadata": {},
     "output_type": "execute_result"
    }
   ],
   "source": [
    "len(y_train)"
   ]
  },
  {
   "cell_type": "code",
   "execution_count": 496,
   "metadata": {},
   "outputs": [
    {
     "name": "stdout",
     "output_type": "stream",
     "text": [
      "[[14295]\n",
      " [ 5500]\n",
      " [22900]\n",
      " ...\n",
      " [ 8995]\n",
      " [22610]\n",
      " [16100]]\n"
     ]
    }
   ],
   "source": [
    "## actual y\n",
    "y_actual_train= np.array([df_t['price'] ]) \n",
    "y_actual_train=y_actual_train.T\n",
    "print (y_actual_train)"
   ]
  },
  {
   "cell_type": "code",
   "execution_count": 497,
   "metadata": {},
   "outputs": [],
   "source": [
    "##test data\n",
    "X = x_train[87]"
   ]
  },
  {
   "cell_type": "code",
   "execution_count": 498,
   "metadata": {},
   "outputs": [
    {
     "data": {
      "text/plain": [
       "array([    4,    41,   190,     5,     1,     1,     2, 39006])"
      ]
     },
     "execution_count": 498,
     "metadata": {},
     "output_type": "execute_result"
    }
   ],
   "source": [
    "X"
   ]
  },
  {
   "cell_type": "code",
   "execution_count": 499,
   "metadata": {},
   "outputs": [],
   "source": [
    "Y = y_actual_train[87]"
   ]
  },
  {
   "cell_type": "code",
   "execution_count": 500,
   "metadata": {},
   "outputs": [
    {
     "data": {
      "text/plain": [
       "array([49900])"
      ]
     },
     "execution_count": 500,
     "metadata": {},
     "output_type": "execute_result"
    }
   ],
   "source": [
    "Y"
   ]
  },
  {
   "cell_type": "markdown",
   "metadata": {},
   "source": [
    "Organize the input/output "
   ]
  },
  {
   "cell_type": "code",
   "execution_count": 501,
   "metadata": {},
   "outputs": [],
   "source": [
    "x_train = x_train.reshape(19998, 8)"
   ]
  },
  {
   "cell_type": "code",
   "execution_count": 502,
   "metadata": {},
   "outputs": [],
   "source": [
    "y_train = y_train.reshape(19998, 20)"
   ]
  },
  {
   "cell_type": "code",
   "execution_count": 503,
   "metadata": {},
   "outputs": [
    {
     "data": {
      "text/plain": [
       "(0.0, 1.0)"
      ]
     },
     "execution_count": 503,
     "metadata": {},
     "output_type": "execute_result"
    }
   ],
   "source": [
    "##normalize\n",
    "x_train = x_train-x_train.min()\n",
    "x_train = x_train/x_train.max()\n",
    "x_train.min(), x_train.max()"
   ]
  },
  {
   "cell_type": "code",
   "execution_count": null,
   "metadata": {},
   "outputs": [],
   "source": []
  },
  {
   "cell_type": "code",
   "execution_count": 504,
   "metadata": {},
   "outputs": [
    {
     "name": "stdout",
     "output_type": "stream",
     "text": [
      "env: KERAS_BACKEND=tensorflow\n"
     ]
    }
   ],
   "source": [
    "from keras.models import Sequential\n",
    "from keras.layers import Dense, Activation\n",
    "from keras.optimizers import SGD\n",
    "from keras.models import Model\n",
    "from keras.layers import Input\n",
    "from keras.layers import concatenate, add\n",
    "%env KERAS_BACKEND=tensorflow"
   ]
  },
  {
   "cell_type": "code",
   "execution_count": null,
   "metadata": {},
   "outputs": [],
   "source": []
  },
  {
   "cell_type": "code",
   "execution_count": 505,
   "metadata": {},
   "outputs": [],
   "source": [
    "f_1 = Dense(10, activation='sigmoid')\n",
    "f_2 = Dense(10, activation='relu')\n",
    "f_3 = Dense(10, activation='sigmoid')\n",
    "f_4 = Dense(10, activation='tanh')\n",
    "f_5 = Dense(10, activation='relu')\n",
    "f_6 = Dense(10, activation='sigmoid')\n",
    "f_7 = Dense(20, activation='softmax')\n",
    "\n",
    "x = Input(shape=(8,))\n",
    "\n",
    "h_1 = f_1(x)\n",
    "h_2 = f_2(x)\n",
    "c1 = concatenate([h_1, h_2])\n",
    "h_3 = f_3(c1)\n",
    "h_4 = f_4(h_3)\n",
    "h_5 = f_5(h_3)\n",
    "h_6 = f_6(h_3)\n",
    "c2 = concatenate([h_4, h_5, h_6])\n",
    "y = f_7(c2)"
   ]
  },
  {
   "cell_type": "code",
   "execution_count": 506,
   "metadata": {},
   "outputs": [],
   "source": [
    "model = Model(x, y)"
   ]
  },
  {
   "cell_type": "code",
   "execution_count": 507,
   "metadata": {},
   "outputs": [
    {
     "name": "stdout",
     "output_type": "stream",
     "text": [
      "__________________________________________________________________________________________________\n",
      "Layer (type)                    Output Shape         Param #     Connected to                     \n",
      "==================================================================================================\n",
      "input_22 (InputLayer)           (None, 8)            0                                            \n",
      "__________________________________________________________________________________________________\n",
      "dense_220 (Dense)               (None, 10)           90          input_22[0][0]                   \n",
      "__________________________________________________________________________________________________\n",
      "dense_221 (Dense)               (None, 10)           90          input_22[0][0]                   \n",
      "__________________________________________________________________________________________________\n",
      "concatenate_27 (Concatenate)    (None, 20)           0           dense_220[0][0]                  \n",
      "                                                                 dense_221[0][0]                  \n",
      "__________________________________________________________________________________________________\n",
      "dense_222 (Dense)               (None, 10)           210         concatenate_27[0][0]             \n",
      "__________________________________________________________________________________________________\n",
      "dense_223 (Dense)               (None, 10)           110         dense_222[0][0]                  \n",
      "__________________________________________________________________________________________________\n",
      "dense_224 (Dense)               (None, 10)           110         dense_222[0][0]                  \n",
      "__________________________________________________________________________________________________\n",
      "dense_225 (Dense)               (None, 10)           110         dense_222[0][0]                  \n",
      "__________________________________________________________________________________________________\n",
      "concatenate_28 (Concatenate)    (None, 30)           0           dense_223[0][0]                  \n",
      "                                                                 dense_224[0][0]                  \n",
      "                                                                 dense_225[0][0]                  \n",
      "__________________________________________________________________________________________________\n",
      "dense_226 (Dense)               (None, 20)           620         concatenate_28[0][0]             \n",
      "==================================================================================================\n",
      "Total params: 1,340\n",
      "Trainable params: 1,340\n",
      "Non-trainable params: 0\n",
      "__________________________________________________________________________________________________\n"
     ]
    }
   ],
   "source": [
    "model.summary()"
   ]
  },
  {
   "cell_type": "code",
   "execution_count": 508,
   "metadata": {},
   "outputs": [
    {
     "name": "stdout",
     "output_type": "stream",
     "text": [
      "Train on 15998 samples, validate on 4000 samples\n",
      "Epoch 1/50\n",
      "15998/15998 [==============================] - 3s 195us/step - loss: 2.1674 - acc: 0.2283 - val_loss: 2.1295 - val_acc: 0.2450\n",
      "Epoch 2/50\n",
      "15998/15998 [==============================] - 1s 52us/step - loss: 2.1189 - acc: 0.2259 - val_loss: 2.1323 - val_acc: 0.2450\n",
      "Epoch 3/50\n",
      "15998/15998 [==============================] - 1s 63us/step - loss: 2.1139 - acc: 0.2254 - val_loss: 2.1233 - val_acc: 0.2450\n",
      "Epoch 4/50\n",
      "15998/15998 [==============================] - 1s 52us/step - loss: 2.1035 - acc: 0.2372 - val_loss: 2.1156 - val_acc: 0.2393\n",
      "Epoch 5/50\n",
      "15998/15998 [==============================] - 1s 50us/step - loss: 2.0767 - acc: 0.2543 - val_loss: 2.0715 - val_acc: 0.2490\n",
      "Epoch 6/50\n",
      "15998/15998 [==============================] - 1s 57us/step - loss: 2.0214 - acc: 0.2635 - val_loss: 2.0251 - val_acc: 0.2632\n",
      "Epoch 7/50\n",
      "15998/15998 [==============================] - 1s 53us/step - loss: 1.9846 - acc: 0.2662 - val_loss: 2.0084 - val_acc: 0.2562\n",
      "Epoch 8/50\n",
      "15998/15998 [==============================] - 1s 49us/step - loss: 1.9723 - acc: 0.2712 - val_loss: 2.0012 - val_acc: 0.2630\n",
      "Epoch 9/50\n",
      "15998/15998 [==============================] - 1s 50us/step - loss: 1.9679 - acc: 0.2730 - val_loss: 1.9928 - val_acc: 0.2772\n",
      "Epoch 10/50\n",
      "15998/15998 [==============================] - 1s 50us/step - loss: 1.9661 - acc: 0.2772 - val_loss: 1.9997 - val_acc: 0.2778\n",
      "Epoch 11/50\n",
      "15998/15998 [==============================] - 1s 60us/step - loss: 1.9641 - acc: 0.2740 - val_loss: 1.9924 - val_acc: 0.2742\n",
      "Epoch 12/50\n",
      "15998/15998 [==============================] - 1s 55us/step - loss: 1.9639 - acc: 0.2731 - val_loss: 1.9990 - val_acc: 0.2677\n",
      "Epoch 13/50\n",
      "15998/15998 [==============================] - 1s 55us/step - loss: 1.9637 - acc: 0.2721 - val_loss: 1.9913 - val_acc: 0.2797\n",
      "Epoch 14/50\n",
      "15998/15998 [==============================] - 1s 51us/step - loss: 1.9626 - acc: 0.2743 - val_loss: 1.9908 - val_acc: 0.2755\n",
      "Epoch 15/50\n",
      "15998/15998 [==============================] - 1s 57us/step - loss: 1.9626 - acc: 0.2739 - val_loss: 1.9997 - val_acc: 0.2770\n",
      "Epoch 16/50\n",
      "15998/15998 [==============================] - 1s 55us/step - loss: 1.9619 - acc: 0.2722 - val_loss: 1.9999 - val_acc: 0.2702\n",
      "Epoch 17/50\n",
      "15998/15998 [==============================] - 1s 51us/step - loss: 1.9611 - acc: 0.2762 - val_loss: 1.9953 - val_acc: 0.2790\n",
      "Epoch 18/50\n",
      "15998/15998 [==============================] - 1s 51us/step - loss: 1.9619 - acc: 0.2731 - val_loss: 1.9930 - val_acc: 0.2782\n",
      "Epoch 19/50\n",
      "15998/15998 [==============================] - 1s 51us/step - loss: 1.9614 - acc: 0.2754 - val_loss: 1.9928 - val_acc: 0.2745\n",
      "Epoch 20/50\n",
      "15998/15998 [==============================] - 1s 51us/step - loss: 1.9603 - acc: 0.2735 - val_loss: 1.9948 - val_acc: 0.2595\n",
      "Epoch 21/50\n",
      "15998/15998 [==============================] - 1s 56us/step - loss: 1.9610 - acc: 0.2709 - val_loss: 1.9920 - val_acc: 0.2692\n",
      "Epoch 22/50\n",
      "15998/15998 [==============================] - 1s 51us/step - loss: 1.9617 - acc: 0.2744 - val_loss: 1.9980 - val_acc: 0.2710\n",
      "Epoch 23/50\n",
      "15998/15998 [==============================] - 1s 50us/step - loss: 1.9604 - acc: 0.2756 - val_loss: 1.9924 - val_acc: 0.2702\n",
      "Epoch 24/50\n",
      "15998/15998 [==============================] - 1s 48us/step - loss: 1.9600 - acc: 0.2755 - val_loss: 1.9928 - val_acc: 0.2770\n",
      "Epoch 25/50\n",
      "15998/15998 [==============================] - 1s 56us/step - loss: 1.9609 - acc: 0.2767 - val_loss: 1.9908 - val_acc: 0.2765\n",
      "Epoch 26/50\n",
      "15998/15998 [==============================] - 1s 51us/step - loss: 1.9605 - acc: 0.2753 - val_loss: 1.9916 - val_acc: 0.2677\n",
      "Epoch 27/50\n",
      "15998/15998 [==============================] - 1s 48us/step - loss: 1.9595 - acc: 0.2731 - val_loss: 2.0047 - val_acc: 0.2687\n",
      "Epoch 28/50\n",
      "15998/15998 [==============================] - 1s 47us/step - loss: 1.9601 - acc: 0.2764 - val_loss: 1.9984 - val_acc: 0.2597\n",
      "Epoch 29/50\n",
      "15998/15998 [==============================] - 1s 55us/step - loss: 1.9604 - acc: 0.2757 - val_loss: 1.9944 - val_acc: 0.2747\n",
      "Epoch 30/50\n",
      "15998/15998 [==============================] - 1s 51us/step - loss: 1.9595 - acc: 0.2758 - val_loss: 1.9887 - val_acc: 0.2755\n",
      "Epoch 31/50\n",
      "15998/15998 [==============================] - 1s 49us/step - loss: 1.9587 - acc: 0.2732 - val_loss: 1.9908 - val_acc: 0.2767\n",
      "Epoch 32/50\n",
      "15998/15998 [==============================] - 1s 50us/step - loss: 1.9597 - acc: 0.2761 - val_loss: 1.9876 - val_acc: 0.2732\n",
      "Epoch 33/50\n",
      "15998/15998 [==============================] - 1s 53us/step - loss: 1.9600 - acc: 0.2762 - val_loss: 1.9873 - val_acc: 0.2767\n",
      "Epoch 34/50\n",
      "15998/15998 [==============================] - 1s 54us/step - loss: 1.9595 - acc: 0.2759 - val_loss: 1.9939 - val_acc: 0.2617\n",
      "Epoch 35/50\n",
      "15998/15998 [==============================] - 1s 56us/step - loss: 1.9592 - acc: 0.2753 - val_loss: 1.9989 - val_acc: 0.2555\n",
      "Epoch 36/50\n",
      "15998/15998 [==============================] - 1s 60us/step - loss: 1.9585 - acc: 0.2775 - val_loss: 2.0116 - val_acc: 0.2692\n",
      "Epoch 37/50\n",
      "15998/15998 [==============================] - 1s 80us/step - loss: 1.9591 - acc: 0.2733 - val_loss: 1.9896 - val_acc: 0.2760\n",
      "Epoch 38/50\n",
      "15998/15998 [==============================] - 1s 55us/step - loss: 1.9588 - acc: 0.2734 - val_loss: 1.9892 - val_acc: 0.2768\n",
      "Epoch 39/50\n",
      "15998/15998 [==============================] - 1s 55us/step - loss: 1.9593 - acc: 0.2767 - val_loss: 1.9890 - val_acc: 0.2760\n",
      "Epoch 40/50\n",
      "15998/15998 [==============================] - 1s 51us/step - loss: 1.9589 - acc: 0.2790 - val_loss: 1.9875 - val_acc: 0.2792\n",
      "Epoch 41/50\n",
      "15998/15998 [==============================] - 1s 52us/step - loss: 1.9592 - acc: 0.2762 - val_loss: 1.9942 - val_acc: 0.2702\n",
      "Epoch 42/50\n",
      "15998/15998 [==============================] - 1s 49us/step - loss: 1.9581 - acc: 0.2767 - val_loss: 1.9887 - val_acc: 0.2773\n",
      "Epoch 43/50\n",
      "15998/15998 [==============================] - 1s 49us/step - loss: 1.9588 - acc: 0.2742 - val_loss: 1.9963 - val_acc: 0.2718\n",
      "Epoch 44/50\n",
      "15998/15998 [==============================] - 1s 70us/step - loss: 1.9584 - acc: 0.2746 - val_loss: 1.9882 - val_acc: 0.2765\n",
      "Epoch 45/50\n",
      "15998/15998 [==============================] - 1s 75us/step - loss: 1.9584 - acc: 0.2772 - val_loss: 1.9870 - val_acc: 0.2760\n",
      "Epoch 46/50\n",
      "15998/15998 [==============================] - 1s 72us/step - loss: 1.9573 - acc: 0.2750 - val_loss: 2.0012 - val_acc: 0.2715\n",
      "Epoch 47/50\n",
      "15998/15998 [==============================] - 1s 51us/step - loss: 1.9581 - acc: 0.2758 - val_loss: 1.9947 - val_acc: 0.2735\n",
      "Epoch 48/50\n",
      "15998/15998 [==============================] - 1s 46us/step - loss: 1.9586 - acc: 0.2747 - val_loss: 1.9880 - val_acc: 0.2768\n",
      "Epoch 49/50\n",
      "15998/15998 [==============================] - 1s 65us/step - loss: 1.9580 - acc: 0.2742 - val_loss: 1.9869 - val_acc: 0.2773\n",
      "Epoch 50/50\n",
      "15998/15998 [==============================] - 1s 76us/step - loss: 1.9583 - acc: 0.2751 - val_loss: 1.9867 - val_acc: 0.2760\n"
     ]
    },
    {
     "data": {
      "text/plain": [
       "<keras.callbacks.History at 0xb44cac4a8>"
      ]
     },
     "execution_count": 508,
     "metadata": {},
     "output_type": "execute_result"
    }
   ],
   "source": [
    "model.compile(loss='categorical_crossentropy', optimizer=SGD(lr=0.08), metrics=['accuracy'])\n",
    "model.fit(x_train, y_train, batch_size=50, epochs=50, verbose=1, validation_split=0.2)"
   ]
  },
  {
   "cell_type": "markdown",
   "metadata": {},
   "source": [
    "<br>\n",
    "<font face=\"黑体\"> Conclusion\n",
    "    \n",
    "1/ the accuracy of training machine~27%<br>\n",
    "2/the accuracy of test~27%<br>"
   ]
  },
  {
   "cell_type": "code",
   "execution_count": null,
   "metadata": {},
   "outputs": [],
   "source": []
  }
 ],
 "metadata": {
  "kernelspec": {
   "display_name": "Python 3",
   "language": "python",
   "name": "python3"
  },
  "language_info": {
   "codemirror_mode": {
    "name": "ipython",
    "version": 3
   },
   "file_extension": ".py",
   "mimetype": "text/x-python",
   "name": "python",
   "nbconvert_exporter": "python",
   "pygments_lexer": "ipython3",
   "version": "3.6.5"
  }
 },
 "nbformat": 4,
 "nbformat_minor": 2
}
